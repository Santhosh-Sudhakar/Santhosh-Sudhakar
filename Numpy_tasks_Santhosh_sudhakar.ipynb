{
  "cells": [
    {
      "cell_type": "markdown",
      "metadata": {
        "id": "view-in-github",
        "colab_type": "text"
      },
      "source": [
        "<a href=\"https://colab.research.google.com/github/Santhosh-Sudhakar/Santhosh-Sudhakar/blob/main/Numpy_tasks_Santhosh_sudhakar.ipynb\" target=\"_parent\"><img src=\"https://colab.research.google.com/assets/colab-badge.svg\" alt=\"Open In Colab\"/></a>"
      ]
    },
    {
      "cell_type": "markdown",
      "metadata": {
        "id": "KGkRDNbByn0f"
      },
      "source": [
        "# Numpy\n",
        "\n"
      ]
    },
    {
      "cell_type": "markdown",
      "metadata": {
        "id": "nQvu2LWkyn0k"
      },
      "source": [
        "#### 1. Import the numpy package under the name `np` (★☆☆) \n",
        "(**hint**: import … as …)"
      ]
    },
    {
      "cell_type": "code",
      "execution_count": 1,
      "metadata": {
        "collapsed": true,
        "id": "HYW8Vh8Vyn0l"
      },
      "outputs": [],
      "source": [
        "import numpy as np"
      ]
    },
    {
      "cell_type": "markdown",
      "metadata": {
        "id": "L0Vk7UmGyn0l"
      },
      "source": [
        "#### 2. Print the numpy version and the configuration (★☆☆) \n",
        "(**hint**: np.\\_\\_version\\_\\_, np.show\\_config)"
      ]
    },
    {
      "cell_type": "code",
      "execution_count": 2,
      "metadata": {
        "id": "0oDM0ZOEyn0m",
        "colab": {
          "base_uri": "https://localhost:8080/"
        },
        "outputId": "518cd173-465a-44bf-fe4a-726fbfc764c9"
      },
      "outputs": [
        {
          "output_type": "stream",
          "name": "stdout",
          "text": [
            "1.21.6\n",
            "blas_mkl_info:\n",
            "  NOT AVAILABLE\n",
            "blis_info:\n",
            "  NOT AVAILABLE\n",
            "openblas_info:\n",
            "    libraries = ['openblas', 'openblas']\n",
            "    library_dirs = ['/usr/local/lib']\n",
            "    language = c\n",
            "    define_macros = [('HAVE_CBLAS', None)]\n",
            "    runtime_library_dirs = ['/usr/local/lib']\n",
            "blas_opt_info:\n",
            "    libraries = ['openblas', 'openblas']\n",
            "    library_dirs = ['/usr/local/lib']\n",
            "    language = c\n",
            "    define_macros = [('HAVE_CBLAS', None)]\n",
            "    runtime_library_dirs = ['/usr/local/lib']\n",
            "lapack_mkl_info:\n",
            "  NOT AVAILABLE\n",
            "openblas_lapack_info:\n",
            "    libraries = ['openblas', 'openblas']\n",
            "    library_dirs = ['/usr/local/lib']\n",
            "    language = c\n",
            "    define_macros = [('HAVE_CBLAS', None)]\n",
            "    runtime_library_dirs = ['/usr/local/lib']\n",
            "lapack_opt_info:\n",
            "    libraries = ['openblas', 'openblas']\n",
            "    library_dirs = ['/usr/local/lib']\n",
            "    language = c\n",
            "    define_macros = [('HAVE_CBLAS', None)]\n",
            "    runtime_library_dirs = ['/usr/local/lib']\n",
            "Supported SIMD extensions in this NumPy install:\n",
            "    baseline = SSE,SSE2,SSE3\n",
            "    found = SSSE3,SSE41,POPCNT,SSE42,AVX,F16C,FMA3,AVX2\n",
            "    not found = AVX512F,AVX512CD,AVX512_KNL,AVX512_KNM,AVX512_SKX,AVX512_CLX,AVX512_CNL,AVX512_ICL\n",
            "None\n"
          ]
        }
      ],
      "source": [
        "print(np.__version__)\n",
        "print(np.show_config())"
      ]
    },
    {
      "cell_type": "markdown",
      "metadata": {
        "id": "7VPdHfDGyn0m"
      },
      "source": [
        "#### 3. Create a null vector of size 10 (★☆☆) \n",
        "(**hint**: np.zeros)"
      ]
    },
    {
      "cell_type": "code",
      "execution_count": 3,
      "metadata": {
        "id": "_UivN_-yyn0n",
        "colab": {
          "base_uri": "https://localhost:8080/"
        },
        "outputId": "9efc1ea1-791b-43f6-8cc4-49167b9a65e6"
      },
      "outputs": [
        {
          "output_type": "stream",
          "name": "stdout",
          "text": [
            "[0. 0. 0. 0. 0. 0. 0. 0. 0. 0.]\n"
          ]
        }
      ],
      "source": [
        "print(np.zeros(10))"
      ]
    },
    {
      "cell_type": "markdown",
      "metadata": {
        "id": "jHPgHWmyyn0n"
      },
      "source": [
        "#### 4.  How to find the memory size of any array (★☆☆) \n",
        "(**hint**: size, itemsize)"
      ]
    },
    {
      "cell_type": "code",
      "execution_count": 4,
      "metadata": {
        "id": "eVk83DMZyn0n",
        "colab": {
          "base_uri": "https://localhost:8080/"
        },
        "outputId": "962f775e-e3a0-4704-9c31-6f87fcdf1216"
      },
      "outputs": [
        {
          "output_type": "stream",
          "name": "stdout",
          "text": [
            "40\n"
          ]
        }
      ],
      "source": [
        "a=np.array([1,2,3,4,5])\n",
        "print(a.size*a.itemsize)"
      ]
    },
    {
      "cell_type": "markdown",
      "metadata": {
        "id": "eEpfWcs9yn0o"
      },
      "source": [
        "#### 5.  How to get the documentation of the numpy add function from the command line? (★☆☆) \n",
        "(**hint**: np.info)"
      ]
    },
    {
      "cell_type": "code",
      "execution_count": 5,
      "metadata": {
        "collapsed": true,
        "id": "sm7IT5uTyn0o",
        "colab": {
          "base_uri": "https://localhost:8080/"
        },
        "outputId": "a2f39f0f-153c-4964-9f26-8794ca7aee17"
      },
      "outputs": [
        {
          "output_type": "stream",
          "name": "stdout",
          "text": [
            "<function info at 0x7f1506155950>\n"
          ]
        }
      ],
      "source": [
        "print(np.info)"
      ]
    },
    {
      "cell_type": "markdown",
      "metadata": {
        "id": "OPQzQHixyn0o"
      },
      "source": [
        "#### 6.  Create a null vector of size 10 but the fifth value which is 1 (★☆☆) \n",
        "(**hint**: array\\[4\\])"
      ]
    },
    {
      "cell_type": "code",
      "execution_count": 6,
      "metadata": {
        "id": "CkhxRowkyn0p",
        "colab": {
          "base_uri": "https://localhost:8080/"
        },
        "outputId": "4d719d5e-797c-4a02-bd69-163ae7c2bf44"
      },
      "outputs": [
        {
          "output_type": "stream",
          "name": "stdout",
          "text": [
            "[0. 0. 0. 0. 1. 0. 0. 0. 0. 0.]\n"
          ]
        }
      ],
      "source": [
        "a=np.zeros(10)\n",
        "a[4]=1\n",
        "print(a)"
      ]
    },
    {
      "cell_type": "markdown",
      "metadata": {
        "id": "Uw_tNaa6yn0p"
      },
      "source": [
        "#### 7.  Create a vector with values ranging from 10 to 49 (★☆☆) \n",
        "(**hint**: np.arange)"
      ]
    },
    {
      "cell_type": "code",
      "execution_count": 7,
      "metadata": {
        "id": "pZV1TD30yn0p",
        "colab": {
          "base_uri": "https://localhost:8080/"
        },
        "outputId": "ac07aab3-a4a4-4682-d08a-e37852ff7e21"
      },
      "outputs": [
        {
          "output_type": "execute_result",
          "data": {
            "text/plain": [
              "array([10, 11, 12, 13, 14, 15, 16, 17, 18, 19, 20, 21, 22, 23, 24, 25, 26,\n",
              "       27, 28, 29, 30, 31, 32, 33, 34, 35, 36, 37, 38, 39, 40, 41, 42, 43,\n",
              "       44, 45, 46, 47, 48])"
            ]
          },
          "metadata": {},
          "execution_count": 7
        }
      ],
      "source": [
        "np.arange(10,49)"
      ]
    },
    {
      "cell_type": "markdown",
      "metadata": {
        "id": "E7ZN_t0Yyn0q"
      },
      "source": [
        "#### 8.  Reverse a vector (first element becomes last) (★☆☆) \n",
        "(**hint**: array\\[::-1\\])"
      ]
    },
    {
      "cell_type": "code",
      "execution_count": 8,
      "metadata": {
        "id": "nbJvIf2Lyn0q",
        "colab": {
          "base_uri": "https://localhost:8080/"
        },
        "outputId": "091edcb8-376d-40e5-be9e-efe2ea56155b"
      },
      "outputs": [
        {
          "output_type": "stream",
          "name": "stdout",
          "text": [
            "[5 4 3 2 1]\n"
          ]
        }
      ],
      "source": [
        "a=np.array([1,2,3,4,5])\n",
        "print(a[::-1])"
      ]
    },
    {
      "cell_type": "markdown",
      "metadata": {
        "id": "Gxxx_Ynyyn0r"
      },
      "source": [
        "#### 9.  Create a 3x3 matrix with values ranging from 0 to 8 (★☆☆) \n",
        "(**hint**: reshape)"
      ]
    },
    {
      "cell_type": "code",
      "execution_count": 9,
      "metadata": {
        "id": "o8_hrO7Eyn0r",
        "colab": {
          "base_uri": "https://localhost:8080/"
        },
        "outputId": "a8214825-aef0-4b8b-c2e9-47d6c0c93b36"
      },
      "outputs": [
        {
          "output_type": "stream",
          "name": "stdout",
          "text": [
            "[[0 1 2]\n",
            " [3 4 5]\n",
            " [6 7 8]]\n"
          ]
        }
      ],
      "source": [
        "a=np.arange(0,9).reshape(3,3)\n",
        "print(a)"
      ]
    },
    {
      "cell_type": "markdown",
      "metadata": {
        "id": "RXroKooVyn0s"
      },
      "source": [
        "#### 10. Find indices of non-zero elements from \\[1,2,0,0,4,0\\] (★☆☆) \n",
        "(**hint**: np.nonzero)"
      ]
    },
    {
      "cell_type": "code",
      "execution_count": 10,
      "metadata": {
        "id": "dxIkzQdPyn0s",
        "colab": {
          "base_uri": "https://localhost:8080/"
        },
        "outputId": "626cb564-b9ff-44ae-ffe8-363c02d04537"
      },
      "outputs": [
        {
          "output_type": "stream",
          "name": "stdout",
          "text": [
            "(array([0, 1, 4]),)\n"
          ]
        }
      ],
      "source": [
        "a=np.array([1,2,0,0,4,0])\n",
        "print(np.nonzero(a))"
      ]
    },
    {
      "cell_type": "markdown",
      "metadata": {
        "id": "p0FgNdqKyn0t"
      },
      "source": [
        "#### 11. Create a 3x3 identity matrix (★☆☆) \n",
        "(**hint**: np.eye)"
      ]
    },
    {
      "cell_type": "code",
      "execution_count": 11,
      "metadata": {
        "id": "PpMF1jRXyn0t",
        "colab": {
          "base_uri": "https://localhost:8080/"
        },
        "outputId": "51b4c2d4-63d7-4215-e965-19e62116a012"
      },
      "outputs": [
        {
          "output_type": "stream",
          "name": "stdout",
          "text": [
            "[[1. 0. 0.]\n",
            " [0. 1. 0.]\n",
            " [0. 0. 1.]]\n"
          ]
        }
      ],
      "source": [
        "a=np.identity(3)\n",
        "print(a)"
      ]
    },
    {
      "cell_type": "markdown",
      "metadata": {
        "id": "WN85VBrDyn0u"
      },
      "source": [
        "#### 12. Create a 3x3x3 array with random values (★☆☆) \n",
        "(**hint**: np.random.random)"
      ]
    },
    {
      "cell_type": "code",
      "execution_count": 12,
      "metadata": {
        "collapsed": true,
        "id": "ZVT2SyaIyn0u",
        "colab": {
          "base_uri": "https://localhost:8080/"
        },
        "outputId": "27a7c5f8-907e-4c48-845f-9041134d9f03"
      },
      "outputs": [
        {
          "output_type": "stream",
          "name": "stdout",
          "text": [
            "[[[0.5863609  0.7721875  0.07908219]\n",
            "  [0.53761693 0.94784122 0.72145597]\n",
            "  [0.20991462 0.47350141 0.8363835 ]]\n",
            "\n",
            " [[0.71647551 0.87468637 0.52155718]\n",
            "  [0.57173063 0.39110298 0.13651597]\n",
            "  [0.80136534 0.04605801 0.28727333]]\n",
            "\n",
            " [[0.88947208 0.59573458 0.0140233 ]\n",
            "  [0.30617345 0.67259287 0.12572502]\n",
            "  [0.57345405 0.79606499 0.46070249]]]\n"
          ]
        }
      ],
      "source": [
        "a=np.random.random((3,3,3))\n",
        "print(a)"
      ]
    },
    {
      "cell_type": "markdown",
      "metadata": {
        "id": "POB4CPNeyn0u"
      },
      "source": [
        "#### 13. Create a 10x10 array with random values and find the minimum and maximum values (★☆☆) \n",
        "(**hint**: min, max)"
      ]
    },
    {
      "cell_type": "code",
      "execution_count": 13,
      "metadata": {
        "id": "819-JRdhyn0v",
        "colab": {
          "base_uri": "https://localhost:8080/"
        },
        "outputId": "acb526c3-0713-49f7-9cff-103d97a1d4c2"
      },
      "outputs": [
        {
          "output_type": "stream",
          "name": "stdout",
          "text": [
            "0.02044050640794226\n",
            "0.9626717846142534\n"
          ]
        }
      ],
      "source": [
        "a=np.random.random((10,10))\n",
        "max_ele=np.max(a)\n",
        "min_ele=np.min(a)\n",
        "print(min_ele)\n",
        "print(max_ele)"
      ]
    },
    {
      "cell_type": "markdown",
      "metadata": {
        "id": "-3qR8Ol0yn0v"
      },
      "source": [
        "#### 14. Create a random vector of size 30 and find the mean value (★☆☆) \n",
        "(**hint**: mean)"
      ]
    },
    {
      "cell_type": "code",
      "execution_count": 14,
      "metadata": {
        "id": "k6jlM2ARyn0v",
        "colab": {
          "base_uri": "https://localhost:8080/"
        },
        "outputId": "fc90ee07-d7c5-40f2-f579-8978831035f6"
      },
      "outputs": [
        {
          "output_type": "stream",
          "name": "stdout",
          "text": [
            "0.4798361770715627\n"
          ]
        }
      ],
      "source": [
        "a=np.random.random(30)\n",
        "mean_ele=np.mean(a)\n",
        "print(mean_ele)"
      ]
    },
    {
      "cell_type": "markdown",
      "metadata": {
        "id": "uq5M__I7yn0v"
      },
      "source": [
        "#### 15. Create a 2d array with 1 on the border and 0 inside (★☆☆) \n",
        "(**hint**: array\\[1:-1, 1:-1\\])"
      ]
    },
    {
      "cell_type": "code",
      "execution_count": 15,
      "metadata": {
        "id": "cAO0BY6cyn0w",
        "colab": {
          "base_uri": "https://localhost:8080/"
        },
        "outputId": "452d42a9-44a5-4020-8950-c6e5df788c19"
      },
      "outputs": [
        {
          "output_type": "stream",
          "name": "stdout",
          "text": [
            "[[1. 1. 1. 1. 1.]\n",
            " [1. 0. 0. 0. 1.]\n",
            " [1. 0. 0. 0. 1.]\n",
            " [1. 0. 0. 0. 1.]\n",
            " [1. 1. 1. 1. 1.]]\n"
          ]
        }
      ],
      "source": [
        "a=np.ones((5,5))\n",
        "a[1:-1,1:-1]=0\n",
        "print(a)"
      ]
    },
    {
      "cell_type": "markdown",
      "metadata": {
        "id": "a9y3aWJdyn0w"
      },
      "source": [
        "#### 16. How to add a border (filled with 0's) around an existing array? (★☆☆) \n",
        "(**hint**: np.pad)"
      ]
    },
    {
      "cell_type": "code",
      "execution_count": 16,
      "metadata": {
        "id": "lK_livzgyn0w",
        "colab": {
          "base_uri": "https://localhost:8080/"
        },
        "outputId": "a3a753e9-ed15-434c-d970-9b04c7d475ce"
      },
      "outputs": [
        {
          "output_type": "stream",
          "name": "stdout",
          "text": [
            "[[0. 0. 0. 0. 0. 0. 0.]\n",
            " [0. 1. 1. 1. 1. 1. 0.]\n",
            " [0. 1. 1. 1. 1. 1. 0.]\n",
            " [0. 1. 1. 1. 1. 1. 0.]\n",
            " [0. 1. 1. 1. 1. 1. 0.]\n",
            " [0. 1. 1. 1. 1. 1. 0.]\n",
            " [0. 0. 0. 0. 0. 0. 0.]]\n"
          ]
        }
      ],
      "source": [
        "a=np.ones((5,5))\n",
        "a=np.pad(a,pad_width=1,mode='constant',constant_values=0)\n",
        "print(a)"
      ]
    },
    {
      "cell_type": "markdown",
      "metadata": {
        "id": "pqunMOIvyn0x"
      },
      "source": [
        "#### 17. What is the result of the following expression? (★☆☆) \n",
        "(**hint**: NaN = not a number, inf = infinity)"
      ]
    },
    {
      "cell_type": "markdown",
      "metadata": {
        "id": "pjDIestnyn0y"
      },
      "source": [
        "```python\n",
        "0 * np.nan\n",
        "np.nan == np.nan\n",
        "np.inf > np.nan\n",
        "np.nan - np.nan\n",
        "0.3 == 3 * 0.1\n",
        "```"
      ]
    },
    {
      "cell_type": "code",
      "execution_count": 17,
      "metadata": {
        "id": "R7DeL09oyn0z",
        "colab": {
          "base_uri": "https://localhost:8080/"
        },
        "outputId": "9f24fcd7-5105-43e8-caf2-39c4fa38cfe4"
      },
      "outputs": [
        {
          "output_type": "stream",
          "name": "stdout",
          "text": [
            "nan\n",
            "False\n",
            "False\n",
            "nan\n",
            "False\n"
          ]
        }
      ],
      "source": [
        "print(0 * np.nan)\n",
        "print(np.nan == np.nan)\n",
        "print(np.inf > np.nan)\n",
        "print(np.nan - np.nan)\n",
        "print(0.3 == 3 * 0.1)"
      ]
    },
    {
      "cell_type": "markdown",
      "metadata": {
        "id": "tYzgoXFSyn00"
      },
      "source": [
        "#### 18. Create a 5x5 matrix with values 1,2,3,4 just below the diagonal (★☆☆) \n",
        "(**hint**: np.diag)"
      ]
    },
    {
      "cell_type": "code",
      "execution_count": 18,
      "metadata": {
        "id": "dkphpbCNyn00",
        "colab": {
          "base_uri": "https://localhost:8080/"
        },
        "outputId": "9eb73635-dc6e-4405-cd77-91dbc03cee99"
      },
      "outputs": [
        {
          "output_type": "stream",
          "name": "stdout",
          "text": [
            "[[0 0 0 0 0]\n",
            " [1 0 0 0 0]\n",
            " [0 2 0 0 0]\n",
            " [0 0 3 0 0]\n",
            " [0 0 0 4 0]]\n"
          ]
        }
      ],
      "source": [
        "a=np.diag(np.arange(1,5),k=-1)\n",
        "print(a)"
      ]
    },
    {
      "cell_type": "markdown",
      "metadata": {
        "id": "Sbg8omm2yn00"
      },
      "source": [
        "#### 19. Create a 8x8 matrix and fill it with a checkerboard pattern (★☆☆) \n",
        "(**hint**: array\\[::2\\])"
      ]
    },
    {
      "cell_type": "code",
      "execution_count": 19,
      "metadata": {
        "id": "bELcJ_ykyn00",
        "colab": {
          "base_uri": "https://localhost:8080/"
        },
        "outputId": "dfa8f2a0-a8d7-42a7-aae4-07e608d3f322"
      },
      "outputs": [
        {
          "output_type": "stream",
          "name": "stdout",
          "text": [
            "[[0. 1. 0. 1. 0. 1. 0. 1.]\n",
            " [1. 0. 1. 0. 1. 0. 1. 0.]\n",
            " [0. 1. 0. 1. 0. 1. 0. 1.]\n",
            " [1. 0. 1. 0. 1. 0. 1. 0.]\n",
            " [0. 1. 0. 1. 0. 1. 0. 1.]\n",
            " [1. 0. 1. 0. 1. 0. 1. 0.]\n",
            " [0. 1. 0. 1. 0. 1. 0. 1.]\n",
            " [1. 0. 1. 0. 1. 0. 1. 0.]]\n"
          ]
        }
      ],
      "source": [
        "a=np.zeros((8,8))\n",
        "a[1::2,::2]=1\n",
        "a[::2,1::2]=1\n",
        "print(a)"
      ]
    },
    {
      "cell_type": "markdown",
      "metadata": {
        "id": "RIAN7A2eyn01"
      },
      "source": [
        "#### 20. Consider a (6,7,8) shape array, what is the index (x,y,z) of the 100th element? \n",
        "(**hint**: np.unravel_index)"
      ]
    },
    {
      "cell_type": "code",
      "execution_count": 20,
      "metadata": {
        "id": "P4E0ojIRyn01",
        "colab": {
          "base_uri": "https://localhost:8080/"
        },
        "outputId": "34124787-22e1-4b31-8d98-5ba0f941fcea"
      },
      "outputs": [
        {
          "output_type": "stream",
          "name": "stdout",
          "text": [
            "(1, 5, 4)\n"
          ]
        }
      ],
      "source": [
        "print(np.unravel_index(100,(6,7,8)))"
      ]
    },
    {
      "cell_type": "markdown",
      "metadata": {
        "id": "YlSBA5Mlyn01"
      },
      "source": [
        "#### 21. Create a checkerboard 8x8 matrix using the tile function (★☆☆) \n",
        "(**hint**: np.tile)"
      ]
    },
    {
      "cell_type": "code",
      "execution_count": 21,
      "metadata": {
        "id": "-gMXeV5vyn01",
        "colab": {
          "base_uri": "https://localhost:8080/"
        },
        "outputId": "f40a1467-c8f6-4543-993d-3c2366ee2c77"
      },
      "outputs": [
        {
          "output_type": "stream",
          "name": "stdout",
          "text": [
            "[[0 1 0 1 0 1 0 1]\n",
            " [1 0 1 0 1 0 1 0]\n",
            " [0 1 0 1 0 1 0 1]\n",
            " [1 0 1 0 1 0 1 0]\n",
            " [0 1 0 1 0 1 0 1]\n",
            " [1 0 1 0 1 0 1 0]\n",
            " [0 1 0 1 0 1 0 1]\n",
            " [1 0 1 0 1 0 1 0]]\n"
          ]
        }
      ],
      "source": [
        "a=np.array([[0,1],[1,0]])\n",
        "b=np.tile(a,(4,4))\n",
        "print(b)"
      ]
    },
    {
      "cell_type": "markdown",
      "metadata": {
        "id": "b40jB6I5yn02"
      },
      "source": [
        "#### 22. Normalize a 5x5 random matrix (★☆☆) \n",
        "(**hint**: (x - min) / (max - min))"
      ]
    },
    {
      "cell_type": "code",
      "execution_count": 22,
      "metadata": {
        "id": "b_NiHtKsyn02",
        "colab": {
          "base_uri": "https://localhost:8080/"
        },
        "outputId": "a2944253-541d-465a-ce7b-9e0514b4dc3b"
      },
      "outputs": [
        {
          "output_type": "stream",
          "name": "stdout",
          "text": [
            "[[ 1.10648136  1.05402048  0.14262435 -1.31397176  1.163732  ]\n",
            " [-0.90800502  1.35891758 -1.3317725  -0.51822256  0.39596237]\n",
            " [ 0.01563453 -1.63030963 -0.76884472 -0.05513007  1.48433196]\n",
            " [-0.64728313 -1.33236583 -0.44559183 -0.14173622 -0.17991817]\n",
            " [ 1.05880146 -1.42417279  0.31985387  1.58919305  1.00777121]]\n"
          ]
        }
      ],
      "source": [
        "a = np.random.random((5,5))\n",
        "a = (a - np.mean (a)) / (np.std (a))\n",
        "print(a)"
      ]
    },
    {
      "cell_type": "markdown",
      "metadata": {
        "id": "GJ42LFuuyn03"
      },
      "source": [
        "#### 23. Create a custom dtype that describes a color as four unsigned bytes (RGBA) (★☆☆) \n",
        "(**hint**: np.dtype)"
      ]
    },
    {
      "cell_type": "code",
      "execution_count": 23,
      "metadata": {
        "collapsed": true,
        "id": "nqjkto56yn03",
        "colab": {
          "base_uri": "https://localhost:8080/"
        },
        "outputId": "5509ce83-b8f3-43fa-f3aa-fecb6ab43a25"
      },
      "outputs": [
        {
          "output_type": "stream",
          "name": "stderr",
          "text": [
            "/usr/local/lib/python3.7/dist-packages/ipykernel_launcher.py:4: FutureWarning: Passing (type, 1) or '1type' as a synonym of type is deprecated; in a future version of numpy, it will be understood as (type, (1,)) / '(1,)type'.\n",
            "  after removing the cwd from sys.path.\n"
          ]
        }
      ],
      "source": [
        "color = np.dtype([(\"r\", np.ubyte, 1),\n",
        "                  (\"g\", np.ubyte, 1),\n",
        "                  (\"b\", np.ubyte, 1),\n",
        "                  (\"a\", np.ubyte, 1)])"
      ]
    },
    {
      "cell_type": "markdown",
      "metadata": {
        "id": "kzYoPfpRyn03"
      },
      "source": [
        "#### 24. Multiply a 5x3 matrix by a 3x2 matrix (real matrix product) (★☆☆) \n",
        "(**hint**: np.dot | @)"
      ]
    },
    {
      "cell_type": "code",
      "execution_count": 24,
      "metadata": {
        "id": "lLurCFDTyn03",
        "colab": {
          "base_uri": "https://localhost:8080/"
        },
        "outputId": "f2f546dc-5539-4e61-ce45-104d5da1a949"
      },
      "outputs": [
        {
          "output_type": "stream",
          "name": "stdout",
          "text": [
            "[[3. 3.]\n",
            " [3. 3.]\n",
            " [3. 3.]\n",
            " [3. 3.]\n",
            " [3. 3.]]\n"
          ]
        }
      ],
      "source": [
        "a = np.ones((5,3)) @ np.ones((3,2))\n",
        "print(a)"
      ]
    },
    {
      "cell_type": "markdown",
      "metadata": {
        "id": "K3abEJPJyn03"
      },
      "source": [
        "#### 25. Given a 1D array, negate all elements which are between 3 and 8, in place. (★☆☆) \n",
        "(**hint**: >, <=)"
      ]
    },
    {
      "cell_type": "code",
      "execution_count": 25,
      "metadata": {
        "id": "69BIoWnYyn03",
        "colab": {
          "base_uri": "https://localhost:8080/"
        },
        "outputId": "3a4d8b6b-4d7f-4b3b-83a9-4a64704f13a3"
      },
      "outputs": [
        {
          "output_type": "stream",
          "name": "stdout",
          "text": [
            "[ 0  1  2  3 -4 -5 -6 -7 -8  9 10]\n"
          ]
        }
      ],
      "source": [
        "a = np.arange(11)\n",
        "a[(3 < a) & (a <= 8)] *= -1\n",
        "print(a)"
      ]
    },
    {
      "cell_type": "markdown",
      "metadata": {
        "id": "i5QfXIpOyn03"
      },
      "source": [
        "#### 26. What is the output of the following script? (★☆☆) \n",
        "(**hint**: np.sum)"
      ]
    },
    {
      "cell_type": "markdown",
      "metadata": {
        "id": "32GWC-7Zyn04"
      },
      "source": [
        "```python\n",
        "# Author: Jake VanderPlas\n",
        "\n",
        "print(sum(range(5),-1))\n",
        "from numpy import *\n",
        "print(sum(range(5),-1))\n",
        "```"
      ]
    },
    {
      "cell_type": "code",
      "execution_count": 26,
      "metadata": {
        "id": "kdZw1DM_yn04",
        "colab": {
          "base_uri": "https://localhost:8080/"
        },
        "outputId": "73a66ed6-d747-45b3-9948-e0d26a632605"
      },
      "outputs": [
        {
          "output_type": "stream",
          "name": "stdout",
          "text": [
            "9\n",
            "10\n"
          ]
        }
      ],
      "source": [
        "print(sum(range(5),-1))\n",
        "from numpy import *\n",
        "print(sum(range(5),-1))"
      ]
    },
    {
      "cell_type": "markdown",
      "metadata": {
        "id": "4CqhvA4Qyn04"
      },
      "source": [
        "#### 27. Consider an integer vector Z, which of these expressions are legal? (★☆☆)"
      ]
    },
    {
      "cell_type": "markdown",
      "metadata": {
        "id": "GjZVoxRByn04"
      },
      "source": [
        "```python\n",
        "Z**Z\n",
        "2 << Z >> 2\n",
        "Z <- Z\n",
        "1j*Z\n",
        "Z/1/1\n",
        "Z<Z>Z\n",
        "```"
      ]
    },
    {
      "cell_type": "code",
      "execution_count": 26,
      "metadata": {
        "id": "o-B9W2qoyn04"
      },
      "outputs": [],
      "source": []
    },
    {
      "cell_type": "markdown",
      "metadata": {
        "id": "82aG2jtfyn04"
      },
      "source": [
        "#### 28. What are the result of the following expressions?"
      ]
    },
    {
      "cell_type": "markdown",
      "metadata": {
        "id": "zMRPJYjEyn05"
      },
      "source": [
        "```python\n",
        "np.array(0) / np.array(0)\n",
        "np.array(0) // np.array(0)\n",
        "np.array([np.nan]).astype(int).astype(float)\n",
        "```"
      ]
    },
    {
      "cell_type": "code",
      "execution_count": 27,
      "metadata": {
        "id": "6sX_rh4jyn05",
        "colab": {
          "base_uri": "https://localhost:8080/"
        },
        "outputId": "f3c05546-bd3d-441e-b285-172ee47ba911"
      },
      "outputs": [
        {
          "output_type": "execute_result",
          "data": {
            "text/plain": [
              "[-9.22337204e+18]"
            ]
          },
          "metadata": {},
          "execution_count": 27
        }
      ],
      "source": [
        "nan\n",
        "0\n",
        "[-9.22337204e+18]"
      ]
    },
    {
      "cell_type": "markdown",
      "metadata": {
        "id": "hApNdgkUyn05"
      },
      "source": [
        "#### 29. How to round away from zero a float array ? (★☆☆) \n",
        "(**hint**: np.uniform, np.copysign, np.ceil, np.abs)"
      ]
    },
    {
      "cell_type": "code",
      "execution_count": 28,
      "metadata": {
        "id": "c7odIQihyn05",
        "colab": {
          "base_uri": "https://localhost:8080/"
        },
        "outputId": "cc25ef6a-19fe-4139-a13c-19c98126e3bc"
      },
      "outputs": [
        {
          "output_type": "stream",
          "name": "stdout",
          "text": [
            "[-8. -4. -3. -3.  5.  2.  5. -8.  5. -4.]\n"
          ]
        }
      ],
      "source": [
        "a = np.random.uniform(-10,+10,10)\n",
        "print (np.copysign(np.ceil(np.abs(a)), a))"
      ]
    },
    {
      "cell_type": "markdown",
      "metadata": {
        "id": "dsWXRKeRyn06"
      },
      "source": [
        "#### 30. How to find common values between two arrays? (★☆☆) \n",
        "(**hint**: np.intersect1d)"
      ]
    },
    {
      "cell_type": "code",
      "execution_count": 29,
      "metadata": {
        "id": "5kViaeXnyn06",
        "colab": {
          "base_uri": "https://localhost:8080/"
        },
        "outputId": "315f329d-1e7d-4e4d-f635-227f22347204"
      },
      "outputs": [
        {
          "output_type": "stream",
          "name": "stdout",
          "text": [
            "[0 2 3]\n"
          ]
        }
      ],
      "source": [
        "a = np.random.randint(0,10,10)\n",
        "b = np.random.randint(0,10,10)\n",
        "print(np.intersect1d(a,b))"
      ]
    },
    {
      "cell_type": "markdown",
      "metadata": {
        "id": "_-gCoWgoyn06"
      },
      "source": [
        "#### 31. How to ignore all numpy warnings (not recommended)? (★☆☆) \n",
        "(**hint**: np.seterr, np.errstate)"
      ]
    },
    {
      "cell_type": "code",
      "execution_count": 29,
      "metadata": {
        "id": "0GqgshGAyn06"
      },
      "outputs": [],
      "source": []
    },
    {
      "cell_type": "markdown",
      "metadata": {
        "id": "jxfkHyeVyn06"
      },
      "source": [
        "#### 32. Is the following expressions true? (★☆☆) \n",
        "(**hint**: imaginary number)"
      ]
    },
    {
      "cell_type": "markdown",
      "metadata": {
        "id": "y_0Z54ROyn06"
      },
      "source": [
        "```python\n",
        "np.sqrt(-1) == np.emath.sqrt(-1)\n",
        "```"
      ]
    },
    {
      "cell_type": "code",
      "execution_count": 30,
      "metadata": {
        "id": "hvfxBaGnyn06",
        "colab": {
          "base_uri": "https://localhost:8080/"
        },
        "outputId": "f2cf3a65-ba9e-40a4-e164-62f2ef6016b4"
      },
      "outputs": [
        {
          "output_type": "execute_result",
          "data": {
            "text/plain": [
              "False"
            ]
          },
          "metadata": {},
          "execution_count": 30
        }
      ],
      "source": [
        "False"
      ]
    },
    {
      "cell_type": "markdown",
      "metadata": {
        "id": "gQDCTh3Zyn06"
      },
      "source": [
        "#### 33. How to get the dates of yesterday, today and tomorrow? (★☆☆) \n",
        "(**hint**: np.datetime64, np.timedelta64)"
      ]
    },
    {
      "cell_type": "code",
      "execution_count": 31,
      "metadata": {
        "collapsed": true,
        "id": "9YHcb07Hyn06"
      },
      "outputs": [],
      "source": [
        "yesterday = np.datetime64('today', 'D') - np.timedelta64(1, 'D')\n",
        "today     = np.datetime64('today', 'D')\n",
        "tomorrow  = np.datetime64('today', 'D') + np.timedelta64(1, 'D')"
      ]
    },
    {
      "cell_type": "markdown",
      "metadata": {
        "id": "n0xlYvmPyn07"
      },
      "source": [
        "#### 34. How to get all the dates corresponding to the month of July 2016? (★★☆) \n",
        "(**hint**: np.arange(dtype=datetime64\\['D'\\]))"
      ]
    },
    {
      "cell_type": "code",
      "execution_count": 32,
      "metadata": {
        "id": "A-_MfQeLyn07",
        "colab": {
          "base_uri": "https://localhost:8080/"
        },
        "outputId": "f8fa0dea-c033-449d-b8ad-e6ca5132c66f"
      },
      "outputs": [
        {
          "output_type": "stream",
          "name": "stdout",
          "text": [
            "['2016-07-01' '2016-07-02' '2016-07-03' '2016-07-04' '2016-07-05'\n",
            " '2016-07-06' '2016-07-07' '2016-07-08' '2016-07-09' '2016-07-10'\n",
            " '2016-07-11' '2016-07-12' '2016-07-13' '2016-07-14' '2016-07-15'\n",
            " '2016-07-16' '2016-07-17' '2016-07-18' '2016-07-19' '2016-07-20'\n",
            " '2016-07-21' '2016-07-22' '2016-07-23' '2016-07-24' '2016-07-25'\n",
            " '2016-07-26' '2016-07-27' '2016-07-28' '2016-07-29' '2016-07-30'\n",
            " '2016-07-31']\n"
          ]
        }
      ],
      "source": [
        "a = np.arange('2016-07', '2016-08', dtype='datetime64[D]')\n",
        "print(a)"
      ]
    },
    {
      "cell_type": "markdown",
      "metadata": {
        "id": "7dj__pg5yn07"
      },
      "source": [
        "#### 35. How to compute ((A+B)\\*(-A/2)) in place (without copy)? (★★☆) \n",
        "(**hint**: np.add(out=), np.negative(out=), np.multiply(out=), np.divide(out=))"
      ]
    },
    {
      "cell_type": "code",
      "execution_count": 33,
      "metadata": {
        "id": "f0CovgpSyn07",
        "colab": {
          "base_uri": "https://localhost:8080/"
        },
        "outputId": "7ac76520-4c2a-47a7-e671-cb2f6e11c502"
      },
      "outputs": [
        {
          "output_type": "execute_result",
          "data": {
            "text/plain": [
              "array([-1.5, -1.5, -1.5])"
            ]
          },
          "metadata": {},
          "execution_count": 33
        }
      ],
      "source": [
        "A = np.ones(3)*1\n",
        "B= np.ones(3)*2\n",
        "C=np.ones(3)*3\n",
        "np.add(A,B,out=B)\n",
        "np.divide(A,2,out=A)\n",
        "np.negative(A,out=A)\n",
        "np.multiply(A,B,out=A)"
      ]
    },
    {
      "cell_type": "markdown",
      "metadata": {
        "id": "6c8LNdntyn07"
      },
      "source": [
        "#### 36. Extract the integer part of a random array using 5 different methods (★★☆) \n",
        "(**hint**: %, np.floor, np.ceil, astype, np.trunc)"
      ]
    },
    {
      "cell_type": "code",
      "execution_count": 34,
      "metadata": {
        "id": "VlckoKPjyn08",
        "colab": {
          "base_uri": "https://localhost:8080/"
        },
        "outputId": "ec95f41d-fb63-4ba6-9476-b4d008c0eaf1"
      },
      "outputs": [
        {
          "output_type": "stream",
          "name": "stdout",
          "text": [
            "[5. 3. 0. 8. 7. 7. 1. 7. 9. 7.]\n",
            "[5. 3. 0. 8. 7. 7. 1. 7. 9. 7.]\n",
            "[5. 3. 0. 8. 7. 7. 1. 7. 9. 7.]\n",
            "[5 3 0 8 7 7 1 7 9 7]\n",
            "[5. 3. 0. 8. 7. 7. 1. 7. 9. 7.]\n"
          ]
        }
      ],
      "source": [
        "a = np.random.uniform(0,10,10)\n",
        "\n",
        "print (a - a%1)\n",
        "print (np.floor(a))\n",
        "print (np.ceil(a)-1)\n",
        "print (a.astype(int))\n",
        "print (np.trunc(a))"
      ]
    },
    {
      "cell_type": "markdown",
      "metadata": {
        "id": "wBhviVXuyn08"
      },
      "source": [
        "#### 37. Create a 5x5 matrix with row values ranging from 0 to 4 (★★☆) \n",
        "(**hint**: np.arange)"
      ]
    },
    {
      "cell_type": "code",
      "execution_count": 35,
      "metadata": {
        "id": "jyP8JQP6yn08",
        "colab": {
          "base_uri": "https://localhost:8080/"
        },
        "outputId": "4b85f397-d705-4190-a139-72905203e5d5"
      },
      "outputs": [
        {
          "output_type": "stream",
          "name": "stdout",
          "text": [
            "[[0. 1. 2. 3. 4.]\n",
            " [0. 1. 2. 3. 4.]\n",
            " [0. 1. 2. 3. 4.]\n",
            " [0. 1. 2. 3. 4.]\n",
            " [0. 1. 2. 3. 4.]]\n"
          ]
        }
      ],
      "source": [
        "a = np.zeros((5,5))\n",
        "a += np.arange(5)\n",
        "print(a)"
      ]
    },
    {
      "cell_type": "markdown",
      "metadata": {
        "id": "7mjj8y2wyn09"
      },
      "source": [
        "#### 38. Consider a generator function that generates 10 integers and use it to build an array (★☆☆) \n",
        "(**hint**: np.fromiter)"
      ]
    },
    {
      "cell_type": "code",
      "execution_count": 36,
      "metadata": {
        "id": "MtZw2_IWyn09",
        "colab": {
          "base_uri": "https://localhost:8080/"
        },
        "outputId": "07a1cf34-1b59-47e7-da81-e95ce1a2417e"
      },
      "outputs": [
        {
          "output_type": "stream",
          "name": "stdout",
          "text": [
            "[0. 1. 2. 3. 4. 5. 6. 7. 8. 9.]\n"
          ]
        }
      ],
      "source": [
        "def generate():\n",
        "    for x in range(10):\n",
        "        yield x\n",
        "Z = np.fromiter(generate(),dtype=float,count=-1)\n",
        "print(Z)"
      ]
    },
    {
      "cell_type": "markdown",
      "metadata": {
        "id": "7MXZk64Cyn09"
      },
      "source": [
        "#### 39. Create a vector of size 10 with values ranging from 0 to 1, both excluded (★★☆) \n",
        "(**hint**: np.linspace)"
      ]
    },
    {
      "cell_type": "code",
      "execution_count": 37,
      "metadata": {
        "id": "3wmgy5Bbyn09",
        "colab": {
          "base_uri": "https://localhost:8080/"
        },
        "outputId": "dbfafde4-1121-4477-d6de-0a6f6d8a9789"
      },
      "outputs": [
        {
          "output_type": "stream",
          "name": "stdout",
          "text": [
            "[0.09090909 0.18181818 0.27272727 0.36363636 0.45454545 0.54545455\n",
            " 0.63636364 0.72727273 0.81818182 0.90909091]\n"
          ]
        }
      ],
      "source": [
        "a = np.linspace(0,1,11,endpoint=False)[1:]\n",
        "print(a)"
      ]
    },
    {
      "cell_type": "markdown",
      "metadata": {
        "id": "f-apegOiyn09"
      },
      "source": [
        "#### 40. Create a random vector of size 10 and sort it (★★☆) \n",
        "(**hint**: sort)"
      ]
    },
    {
      "cell_type": "code",
      "execution_count": 38,
      "metadata": {
        "id": "4BLKuqAiyn09",
        "colab": {
          "base_uri": "https://localhost:8080/"
        },
        "outputId": "d37ccf65-4585-47e9-9778-748459879a27"
      },
      "outputs": [
        {
          "output_type": "stream",
          "name": "stdout",
          "text": [
            "[0.16553508 0.18150892 0.27374159 0.40954408 0.51739107 0.59636071\n",
            " 0.62720086 0.66370278 0.75234408 0.84592938]\n"
          ]
        }
      ],
      "source": [
        "a = np.random.random(10)\n",
        "a.sort()\n",
        "print(a)"
      ]
    },
    {
      "cell_type": "markdown",
      "metadata": {
        "id": "tr-vBCW5yn09"
      },
      "source": [
        "#### 41. How to sum a small array faster than np.sum? (★★☆) \n",
        "(**hint**: np.add.reduce)"
      ]
    },
    {
      "cell_type": "code",
      "execution_count": 39,
      "metadata": {
        "id": "UCDg78GPyn09",
        "colab": {
          "base_uri": "https://localhost:8080/"
        },
        "outputId": "405d0fa6-4514-4e3c-e8fe-aa4a2e128658"
      },
      "outputs": [
        {
          "output_type": "execute_result",
          "data": {
            "text/plain": [
              "45"
            ]
          },
          "metadata": {},
          "execution_count": 39
        }
      ],
      "source": [
        "a = np.arange(10)\n",
        "np.add.reduce(a)"
      ]
    },
    {
      "cell_type": "markdown",
      "metadata": {
        "id": "nQMrrWOgyn0-"
      },
      "source": [
        "#### 42. Consider two random array A and B, check if they are equal (★★☆) \n",
        "(**hint**: np.allclose, np.array\\_equal)"
      ]
    },
    {
      "cell_type": "code",
      "execution_count": 40,
      "metadata": {
        "id": "T5EGB2Hpyn0-",
        "colab": {
          "base_uri": "https://localhost:8080/"
        },
        "outputId": "bcb45f47-c06c-41ba-a554-44e4882c01bc"
      },
      "outputs": [
        {
          "output_type": "stream",
          "name": "stdout",
          "text": [
            "False\n",
            "False\n"
          ]
        }
      ],
      "source": [
        "a = np.random.randint(0,2,5)\n",
        "b = np.random.randint(0,2,5)\n",
        "equal = np.allclose(A,B)\n",
        "print(equal)\n",
        "equal = np.array_equal(A,B)\n",
        "print(equal)"
      ]
    },
    {
      "cell_type": "markdown",
      "metadata": {
        "id": "nFbWPO2Zyn0-"
      },
      "source": [
        "#### 43. Make an array immutable (read-only) (★★☆) \n",
        "(**hint**: flags.writeable)"
      ]
    },
    {
      "cell_type": "code",
      "execution_count": 41,
      "metadata": {
        "id": "0YO_b0qKyn0-"
      },
      "outputs": [],
      "source": [
        "a = np.zeros(10)\n",
        "a.flags.writeable = False\n"
      ]
    },
    {
      "cell_type": "markdown",
      "metadata": {
        "id": "u3lZWARqyn0-"
      },
      "source": [
        "#### 44. Consider a random 10x2 matrix representing cartesian coordinates, convert them to polar coordinates (★★☆) \n",
        "(**hint**: np.sqrt, np.arctan2)"
      ]
    },
    {
      "cell_type": "code",
      "execution_count": 42,
      "metadata": {
        "id": "3L7bFdtPyn0-",
        "colab": {
          "base_uri": "https://localhost:8080/"
        },
        "outputId": "57e9a3f9-c315-4e00-fe30-54a2d1706bf3"
      },
      "outputs": [
        {
          "output_type": "stream",
          "name": "stdout",
          "text": [
            "[1.06585221 1.18482709 0.27928536 1.10782159 0.49681643 0.40704485\n",
            " 0.90926276 1.1200815  0.21403512 0.53835993]\n",
            "[0.83271838 0.58997482 0.60868803 0.57408313 0.90462363 0.49298331\n",
            " 1.46139264 0.56032896 0.48002134 1.44324448]\n"
          ]
        }
      ],
      "source": [
        "Z = np.random.random((10,2))\n",
        "X,Y = Z[:,0], Z[:,1]\n",
        "R = np.sqrt(X**2+Y**2)\n",
        "T = np.arctan2(Y,X)\n",
        "print(R)\n",
        "print(T)"
      ]
    },
    {
      "cell_type": "markdown",
      "metadata": {
        "id": "mfP9kYqvyn0-"
      },
      "source": [
        "#### 45. Create random vector of size 10 and replace the maximum value by 0 (★★☆) \n",
        "(**hint**: argmax)"
      ]
    },
    {
      "cell_type": "code",
      "execution_count": 43,
      "metadata": {
        "id": "YpglcDGsyn0-",
        "colab": {
          "base_uri": "https://localhost:8080/"
        },
        "outputId": "07668422-55e9-4035-8c04-82e7bfbf7301"
      },
      "outputs": [
        {
          "output_type": "stream",
          "name": "stdout",
          "text": [
            "[0.21740239 0.2162905  0.52827547 0.         0.16925185 0.41376292\n",
            " 0.58296219 0.86772909 0.5304731  0.19033138]\n"
          ]
        }
      ],
      "source": [
        "a = np.random.random(10)\n",
        "a[a.argmax()] = 0\n",
        "print(a)"
      ]
    },
    {
      "cell_type": "markdown",
      "metadata": {
        "id": "E3SFnINpyn0-"
      },
      "source": [
        "#### 46. Create a structured array with `x` and `y` coordinates covering the \\[0,1\\]x\\[0,1\\] area (★★☆) \n",
        "(**hint**: np.meshgrid)"
      ]
    },
    {
      "cell_type": "code",
      "execution_count": 44,
      "metadata": {
        "id": "K_hOz2Iiyn0_",
        "colab": {
          "base_uri": "https://localhost:8080/"
        },
        "outputId": "4216c326-0ebe-48f1-c276-bc12f5d47a25"
      },
      "outputs": [
        {
          "output_type": "stream",
          "name": "stdout",
          "text": [
            "[[(0.  , 0.  ) (0.25, 0.  ) (0.5 , 0.  ) (0.75, 0.  ) (1.  , 0.  )]\n",
            " [(0.  , 0.25) (0.25, 0.25) (0.5 , 0.25) (0.75, 0.25) (1.  , 0.25)]\n",
            " [(0.  , 0.5 ) (0.25, 0.5 ) (0.5 , 0.5 ) (0.75, 0.5 ) (1.  , 0.5 )]\n",
            " [(0.  , 0.75) (0.25, 0.75) (0.5 , 0.75) (0.75, 0.75) (1.  , 0.75)]\n",
            " [(0.  , 1.  ) (0.25, 1.  ) (0.5 , 1.  ) (0.75, 1.  ) (1.  , 1.  )]]\n"
          ]
        }
      ],
      "source": [
        "a = np.zeros((5,5), [('x',float),('y',float)])\n",
        "a['x'], a['y'] = np.meshgrid(np.linspace(0,1,5),\n",
        "                             np.linspace(0,1,5))\n",
        "print(a)"
      ]
    },
    {
      "cell_type": "markdown",
      "metadata": {
        "id": "Xl42qnp-yn0_"
      },
      "source": [
        "####  47. Given two arrays, X and Y, construct the Cauchy matrix C (Cij =1/(xi - yj)) \n",
        "(**hint**: np.subtract.outer)"
      ]
    },
    {
      "cell_type": "code",
      "execution_count": 45,
      "metadata": {
        "id": "DT5LB82Xyn0_",
        "colab": {
          "base_uri": "https://localhost:8080/"
        },
        "outputId": "344021b7-dbd0-43b3-a864-dc639aaefcf0"
      },
      "outputs": [
        {
          "output_type": "stream",
          "name": "stdout",
          "text": [
            "3638.163637117973\n"
          ]
        }
      ],
      "source": [
        "X = np.arange(8)\n",
        "Y = X + 0.5\n",
        "C = 1.0 / np.subtract.outer(X, Y)\n",
        "print(np.linalg.det(C))"
      ]
    },
    {
      "cell_type": "markdown",
      "metadata": {
        "id": "w37P3uGEyn0_"
      },
      "source": [
        "#### 48. Print the minimum and maximum representable value for each numpy scalar type (★★☆) \n",
        "(**hint**: np.iinfo, np.finfo, eps)"
      ]
    },
    {
      "cell_type": "code",
      "execution_count": 46,
      "metadata": {
        "id": "VBvwogKVyn0_",
        "colab": {
          "base_uri": "https://localhost:8080/"
        },
        "outputId": "71e55d49-9cf8-4bf1-a38a-526beac5ce81"
      },
      "outputs": [
        {
          "output_type": "stream",
          "name": "stdout",
          "text": [
            "-128\n",
            "127\n",
            "-2147483648\n",
            "2147483647\n",
            "-9223372036854775808\n",
            "9223372036854775807\n",
            "-3.4028235e+38\n",
            "3.4028235e+38\n",
            "1.1920929e-07\n",
            "-1.7976931348623157e+308\n",
            "1.7976931348623157e+308\n",
            "2.220446049250313e-16\n"
          ]
        }
      ],
      "source": [
        "for dtype in [np.int8, np.int32, np.int64]:\n",
        "   print(np.iinfo(dtype).min)\n",
        "   print(np.iinfo(dtype).max)\n",
        "for dtype in [np.float32, np.float64]:\n",
        "   print(np.finfo(dtype).min)\n",
        "   print(np.finfo(dtype).max)\n",
        "   print(np.finfo(dtype).eps)"
      ]
    },
    {
      "cell_type": "markdown",
      "metadata": {
        "id": "rTXdkr9Eyn0_"
      },
      "source": [
        "#### 49. How to print all the values of an array? (★★☆) \n",
        "(**hint**: np.set\\_printoptions)"
      ]
    },
    {
      "cell_type": "code",
      "execution_count": 47,
      "metadata": {
        "id": "eGXedqu4yn0_",
        "colab": {
          "base_uri": "https://localhost:8080/"
        },
        "outputId": "cd9c073a-28fd-4477-bcfa-4a6d47851ef5"
      },
      "outputs": [
        {
          "output_type": "stream",
          "name": "stdout",
          "text": [
            "[[0. 0. 0. 0. 0. 0. 0. 0. 0. 0. 0. 0. 0. 0. 0. 0.]\n",
            " [0. 0. 0. 0. 0. 0. 0. 0. 0. 0. 0. 0. 0. 0. 0. 0.]\n",
            " [0. 0. 0. 0. 0. 0. 0. 0. 0. 0. 0. 0. 0. 0. 0. 0.]\n",
            " [0. 0. 0. 0. 0. 0. 0. 0. 0. 0. 0. 0. 0. 0. 0. 0.]\n",
            " [0. 0. 0. 0. 0. 0. 0. 0. 0. 0. 0. 0. 0. 0. 0. 0.]\n",
            " [0. 0. 0. 0. 0. 0. 0. 0. 0. 0. 0. 0. 0. 0. 0. 0.]\n",
            " [0. 0. 0. 0. 0. 0. 0. 0. 0. 0. 0. 0. 0. 0. 0. 0.]\n",
            " [0. 0. 0. 0. 0. 0. 0. 0. 0. 0. 0. 0. 0. 0. 0. 0.]\n",
            " [0. 0. 0. 0. 0. 0. 0. 0. 0. 0. 0. 0. 0. 0. 0. 0.]\n",
            " [0. 0. 0. 0. 0. 0. 0. 0. 0. 0. 0. 0. 0. 0. 0. 0.]\n",
            " [0. 0. 0. 0. 0. 0. 0. 0. 0. 0. 0. 0. 0. 0. 0. 0.]\n",
            " [0. 0. 0. 0. 0. 0. 0. 0. 0. 0. 0. 0. 0. 0. 0. 0.]\n",
            " [0. 0. 0. 0. 0. 0. 0. 0. 0. 0. 0. 0. 0. 0. 0. 0.]\n",
            " [0. 0. 0. 0. 0. 0. 0. 0. 0. 0. 0. 0. 0. 0. 0. 0.]\n",
            " [0. 0. 0. 0. 0. 0. 0. 0. 0. 0. 0. 0. 0. 0. 0. 0.]\n",
            " [0. 0. 0. 0. 0. 0. 0. 0. 0. 0. 0. 0. 0. 0. 0. 0.]]\n"
          ]
        }
      ],
      "source": [
        "np.set_printoptions()\n",
        "Z = np.zeros((16,16))\n",
        "print(Z)"
      ]
    },
    {
      "cell_type": "markdown",
      "metadata": {
        "id": "BECZFxsuyn0_"
      },
      "source": [
        "#### 50. How to find the closest value (to a given scalar) in a vector? (★★☆) \n",
        "(**hint**: argmin)"
      ]
    },
    {
      "cell_type": "code",
      "execution_count": 48,
      "metadata": {
        "id": "osyowrhEyn0_",
        "colab": {
          "base_uri": "https://localhost:8080/"
        },
        "outputId": "93698309-508b-47a6-bab6-da78f58674ca"
      },
      "outputs": [
        {
          "output_type": "stream",
          "name": "stdout",
          "text": [
            "85\n"
          ]
        }
      ],
      "source": [
        "Z = np.arange(100)\n",
        "v = np.random.uniform(0,100)\n",
        "index = (np.abs(Z-v)).argmin()\n",
        "print(Z[index])"
      ]
    },
    {
      "cell_type": "markdown",
      "metadata": {
        "id": "c_P08zVWyn0_"
      },
      "source": [
        "#### 51. Create a structured array representing a position (x,y) and a color (r,g,b) (★★☆) \n",
        "(**hint**: dtype)"
      ]
    },
    {
      "cell_type": "code",
      "execution_count": 49,
      "metadata": {
        "id": "F-hq_ebCyn0_",
        "colab": {
          "base_uri": "https://localhost:8080/"
        },
        "outputId": "58c26a0a-a6a3-4861-cea4-7ab07183cd38"
      },
      "outputs": [
        {
          "output_type": "stream",
          "name": "stdout",
          "text": [
            "[((0., 0.), (0., 0., 0.)) ((0., 0.), (0., 0., 0.))\n",
            " ((0., 0.), (0., 0., 0.)) ((0., 0.), (0., 0., 0.))\n",
            " ((0., 0.), (0., 0., 0.)) ((0., 0.), (0., 0., 0.))\n",
            " ((0., 0.), (0., 0., 0.)) ((0., 0.), (0., 0., 0.))\n",
            " ((0., 0.), (0., 0., 0.)) ((0., 0.), (0., 0., 0.))]\n"
          ]
        },
        {
          "output_type": "stream",
          "name": "stderr",
          "text": [
            "/usr/local/lib/python3.7/dist-packages/ipykernel_launcher.py:5: FutureWarning: Passing (type, 1) or '1type' as a synonym of type is deprecated; in a future version of numpy, it will be understood as (type, (1,)) / '(1,)type'.\n",
            "  \"\"\"\n"
          ]
        }
      ],
      "source": [
        "a = np.zeros(10, [ ('position', [ ('x', float, 1),\n",
        "                                  ('y', float, 1)]),\n",
        "                   ('color',    [ ('r', float, 1),\n",
        "                                  ('g', float, 1),\n",
        "                                  ('b', float, 1)])])\n",
        "print(a)"
      ]
    },
    {
      "cell_type": "markdown",
      "metadata": {
        "id": "TOaEHUdLyn0_"
      },
      "source": [
        "#### 52. Consider a random vector with shape (100,2) representing coordinates, find point by point distances (★★☆) \n",
        "(**hint**: np.atleast\\_2d, T, np.sqrt)"
      ]
    },
    {
      "cell_type": "code",
      "execution_count": 50,
      "metadata": {
        "id": "4KoOmIx4yn1A",
        "colab": {
          "base_uri": "https://localhost:8080/"
        },
        "outputId": "5d12f1e8-4297-4dc8-ea26-73302a2e338d"
      },
      "outputs": [
        {
          "output_type": "stream",
          "name": "stdout",
          "text": [
            "[[0.         0.64999983 0.22129049 0.20134321 0.37957583 0.38523349\n",
            "  0.43974636 0.18471889 0.16410532 0.20999287]\n",
            " [0.64999983 0.         0.43103576 0.45171259 1.02930597 0.26825928\n",
            "  0.95532757 0.82651114 0.52494859 0.57219981]\n",
            " [0.22129049 0.43103576 0.         0.05886134 0.5989547  0.17441667\n",
            "  0.56841756 0.39556157 0.11030367 0.19130997]\n",
            " [0.20134321 0.45171259 0.05886134 0.         0.58029157 0.18461951\n",
            "  0.5888679  0.38426044 0.14042664 0.2291197 ]\n",
            " [0.37957583 1.02930597 0.5989547  0.58029157 0.         0.76466533\n",
            "  0.38834599 0.20945429 0.51864961 0.51269647]\n",
            " [0.38523349 0.26825928 0.17441667 0.18461951 0.76466533 0.\n",
            "  0.73618118 0.56598445 0.28105201 0.34972723]\n",
            " [0.43974636 0.95532757 0.56841756 0.5888679  0.38834599 0.73618118\n",
            "  0.         0.31910235 0.45812652 0.38802556]\n",
            " [0.18471889 0.82651114 0.39556157 0.38426044 0.20945429 0.56598445\n",
            "  0.31910235 0.         0.30981203 0.30554484]\n",
            " [0.16410532 0.52494859 0.11030367 0.14042664 0.51864961 0.28105201\n",
            "  0.45812652 0.30981203 0.         0.08960746]\n",
            " [0.20999287 0.57219981 0.19130997 0.2291197  0.51269647 0.34972723\n",
            "  0.38802556 0.30554484 0.08960746 0.        ]]\n",
            "[[0.         0.56482956 0.63256798 0.38646139 0.80765763 0.38979244\n",
            "  0.37722894 0.74387082 0.41543955 0.10545124]\n",
            " [0.56482956 0.         0.68319304 0.40351426 0.66532604 0.83987388\n",
            "  0.62927419 0.85282221 0.82001976 0.58664069]\n",
            " [0.63256798 0.68319304 0.         0.3192508  0.25342241 0.50426056\n",
            "  0.27457964 0.16996342 0.43648109 0.54115941]\n",
            " [0.38646139 0.40351426 0.3192508  0.         0.43023827 0.48103564\n",
            "  0.23361587 0.47826884 0.44372739 0.33070213]\n",
            " [0.80765763 0.66532604 0.25342241 0.43023827 0.         0.75105736\n",
            "  0.49972416 0.34765126 0.685577   0.73291402]\n",
            " [0.38979244 0.83987388 0.50426056 0.48103564 0.75105736 0.\n",
            "  0.26878917 0.52444913 0.07144165 0.29800669]\n",
            " [0.37722894 0.62927419 0.27457964 0.23361587 0.49972416 0.26878917\n",
            "  0.         0.3667881  0.21816247 0.27709539]\n",
            " [0.74387082 0.85282221 0.16996342 0.47826884 0.34765126 0.52444913\n",
            "  0.3667881  0.         0.45304792 0.64357368]\n",
            " [0.41543955 0.82001976 0.43648109 0.44372739 0.685577   0.07144165\n",
            "  0.21816247 0.45304792 0.         0.31535799]\n",
            " [0.10545124 0.58664069 0.54115941 0.33070213 0.73291402 0.29800669\n",
            "  0.27709539 0.64357368 0.31535799 0.        ]]\n"
          ]
        }
      ],
      "source": [
        "import scipy\n",
        "import scipy.spatial\n",
        "Z = np.random.random((10,2))\n",
        "X,Y = np.atleast_2d(Z[:,0], Z[:,1])\n",
        "D = np.sqrt( (X-X.T)**2 + (Y-Y.T)**2)\n",
        "print(D)\n",
        "Z = np.random.random((10,2))\n",
        "D = scipy.spatial.distance.cdist(Z,Z)\n",
        "print(D)"
      ]
    },
    {
      "cell_type": "markdown",
      "metadata": {
        "id": "-l6pp5Q8yn1A"
      },
      "source": [
        "#### 53. How to convert a float (32 bits) array into an integer (32 bits) in place? \n",
        "(**hint**: astype(copy=False))"
      ]
    },
    {
      "cell_type": "code",
      "execution_count": 51,
      "metadata": {
        "id": "ZXXgzVDmyn1A",
        "colab": {
          "base_uri": "https://localhost:8080/"
        },
        "outputId": "57f9d678-75a7-4998-ef3b-54f08b2f6c98"
      },
      "outputs": [
        {
          "output_type": "stream",
          "name": "stdout",
          "text": [
            "[0 1 2 3 4 5 6 7 8 9]\n"
          ]
        }
      ],
      "source": [
        "Z = np.arange(10, dtype=np.float32)\n",
        "Z = Z.astype(np.int32, copy=False)\n",
        "print(Z)"
      ]
    },
    {
      "cell_type": "markdown",
      "metadata": {
        "id": "qCX1FAdgyn1A"
      },
      "source": [
        "#### 54. How to read the following file? (★★☆) \n",
        "(**hint**: np.genfromtxt)"
      ]
    },
    {
      "cell_type": "markdown",
      "metadata": {
        "id": "VyKMa5ykyn1A"
      },
      "source": [
        "```\n",
        "1, 2, 3, 4, 5\n",
        "6,  ,  , 7, 8\n",
        " ,  , 9,10,11\n",
        "```"
      ]
    },
    {
      "cell_type": "code",
      "execution_count": 52,
      "metadata": {
        "id": "lZcJpN5eyn1A",
        "colab": {
          "base_uri": "https://localhost:8080/"
        },
        "outputId": "6dde6a9e-33b2-4a5f-8956-6002431351db"
      },
      "outputs": [
        {
          "output_type": "stream",
          "name": "stdout",
          "text": [
            "[[ 1  2  3  4  5]\n",
            " [ 6 -1 -1  7  8]\n",
            " [-1 -1  9 10 11]]\n"
          ]
        },
        {
          "output_type": "stream",
          "name": "stderr",
          "text": [
            "/usr/local/lib/python3.7/dist-packages/ipykernel_launcher.py:6: DeprecationWarning: `np.int` is a deprecated alias for the builtin `int`. To silence this warning, use `int` by itself. Doing this will not modify any behavior and is safe. When replacing `np.int`, you may wish to use e.g. `np.int64` or `np.int32` to specify the precision. If you wish to review your current use, check the release note link for additional information.\n",
            "Deprecated in NumPy 1.20; for more details and guidance: https://numpy.org/devdocs/release/1.20.0-notes.html#deprecations\n",
            "  \n"
          ]
        }
      ],
      "source": [
        "from io import StringIO\n",
        "\n",
        "s = StringIO(\"\"\"1, 2, 3, 4, 5\\n\n",
        "                6,  ,  , 7, 8\\n\n",
        "                 ,  , 9,10,11\\n\"\"\")\n",
        "Z = np.genfromtxt(s, delimiter=\",\", dtype=np.int)\n",
        "print(Z)"
      ]
    },
    {
      "cell_type": "markdown",
      "metadata": {
        "id": "gd3PXqsMyn1A"
      },
      "source": [
        "#### 55. What is the equivalent of enumerate for numpy arrays? (★★☆) \n",
        "(**hint**: np.ndenumerate, np.ndindex)"
      ]
    },
    {
      "cell_type": "code",
      "execution_count": 53,
      "metadata": {
        "id": "qUw55Bbuyn1A",
        "colab": {
          "base_uri": "https://localhost:8080/"
        },
        "outputId": "74eee338-3fe0-4bbe-92ef-7b28bc8419ff"
      },
      "outputs": [
        {
          "output_type": "stream",
          "name": "stdout",
          "text": [
            "(0, 0) 0\n",
            "(0, 1) 1\n",
            "(0, 2) 2\n",
            "(1, 0) 3\n",
            "(1, 1) 4\n",
            "(1, 2) 5\n",
            "(2, 0) 6\n",
            "(2, 1) 7\n",
            "(2, 2) 8\n",
            "(0, 0) 0\n",
            "(0, 1) 1\n",
            "(0, 2) 2\n",
            "(1, 0) 3\n",
            "(1, 1) 4\n",
            "(1, 2) 5\n",
            "(2, 0) 6\n",
            "(2, 1) 7\n",
            "(2, 2) 8\n"
          ]
        }
      ],
      "source": [
        "Z = np.arange(9).reshape(3,3)\n",
        "for index, value in np.ndenumerate(Z):\n",
        "    print(index, value)\n",
        "for index in np.ndindex(Z.shape):\n",
        "    print(index, Z[index])"
      ]
    },
    {
      "cell_type": "markdown",
      "metadata": {
        "id": "MFW2H-Lwyn1A"
      },
      "source": [
        "#### 56. Generate a generic 2D Gaussian-like array (★★☆) \n",
        "(**hint**: np.meshgrid, np.exp)"
      ]
    },
    {
      "cell_type": "code",
      "execution_count": 54,
      "metadata": {
        "id": "uifMU1pEyn1A",
        "colab": {
          "base_uri": "https://localhost:8080/"
        },
        "outputId": "0f9cc77b-4d3f-444b-ee30-c50f679f17cb"
      },
      "outputs": [
        {
          "output_type": "stream",
          "name": "stdout",
          "text": [
            "[[0.36787944 0.44822088 0.51979489 0.57375342 0.60279818 0.60279818\n",
            "  0.57375342 0.51979489 0.44822088 0.36787944]\n",
            " [0.44822088 0.54610814 0.63331324 0.69905581 0.73444367 0.73444367\n",
            "  0.69905581 0.63331324 0.54610814 0.44822088]\n",
            " [0.51979489 0.63331324 0.73444367 0.81068432 0.85172308 0.85172308\n",
            "  0.81068432 0.73444367 0.63331324 0.51979489]\n",
            " [0.57375342 0.69905581 0.81068432 0.89483932 0.9401382  0.9401382\n",
            "  0.89483932 0.81068432 0.69905581 0.57375342]\n",
            " [0.60279818 0.73444367 0.85172308 0.9401382  0.98773022 0.98773022\n",
            "  0.9401382  0.85172308 0.73444367 0.60279818]\n",
            " [0.60279818 0.73444367 0.85172308 0.9401382  0.98773022 0.98773022\n",
            "  0.9401382  0.85172308 0.73444367 0.60279818]\n",
            " [0.57375342 0.69905581 0.81068432 0.89483932 0.9401382  0.9401382\n",
            "  0.89483932 0.81068432 0.69905581 0.57375342]\n",
            " [0.51979489 0.63331324 0.73444367 0.81068432 0.85172308 0.85172308\n",
            "  0.81068432 0.73444367 0.63331324 0.51979489]\n",
            " [0.44822088 0.54610814 0.63331324 0.69905581 0.73444367 0.73444367\n",
            "  0.69905581 0.63331324 0.54610814 0.44822088]\n",
            " [0.36787944 0.44822088 0.51979489 0.57375342 0.60279818 0.60279818\n",
            "  0.57375342 0.51979489 0.44822088 0.36787944]]\n"
          ]
        }
      ],
      "source": [
        "X, Y = np.meshgrid(np.linspace(-1,1,10), np.linspace(-1,1,10))\n",
        "a = np.sqrt(X*X+Y*Y)\n",
        "sigma, mu = 1.0, 0.0\n",
        "b = np.exp(-( (a-mu)**2 / ( 2.0 * sigma**2 ) ) )\n",
        "print(b)"
      ]
    },
    {
      "cell_type": "markdown",
      "metadata": {
        "id": "okWtKPVDyn1A"
      },
      "source": [
        "#### 57. How to randomly place p elements in a 2D array? (★★☆) \n",
        "(**hint**: np.put, np.random.choice)"
      ]
    },
    {
      "cell_type": "code",
      "execution_count": 55,
      "metadata": {
        "id": "UZdIQ8Djyn1A",
        "colab": {
          "base_uri": "https://localhost:8080/"
        },
        "outputId": "cb0973b0-218a-4c04-b310-d4852254096b"
      },
      "outputs": [
        {
          "output_type": "stream",
          "name": "stdout",
          "text": [
            "[[0. 0. 0. 0. 0. 0. 0. 0. 0. 0.]\n",
            " [0. 0. 0. 0. 0. 0. 0. 0. 0. 0.]\n",
            " [0. 0. 0. 0. 0. 0. 0. 0. 0. 0.]\n",
            " [0. 0. 0. 0. 0. 0. 0. 0. 0. 0.]\n",
            " [0. 0. 0. 0. 0. 0. 0. 0. 0. 0.]\n",
            " [0. 0. 0. 0. 1. 0. 0. 0. 0. 0.]\n",
            " [0. 0. 0. 0. 0. 0. 0. 0. 0. 0.]\n",
            " [0. 0. 0. 0. 0. 0. 0. 0. 0. 0.]\n",
            " [0. 0. 0. 1. 0. 0. 0. 0. 0. 0.]\n",
            " [0. 0. 0. 0. 0. 0. 0. 0. 1. 0.]]\n"
          ]
        }
      ],
      "source": [
        "n = 10\n",
        "p = 3\n",
        "Z = np.zeros((n,n))\n",
        "np.put(Z, np.random.choice(range(n*n), p, replace=False),1)\n",
        "print(Z)"
      ]
    },
    {
      "cell_type": "markdown",
      "metadata": {
        "id": "vTi34ySxyn1A"
      },
      "source": [
        "#### 58. Subtract the mean of each row of a matrix (★★☆) \n",
        "(**hint**: mean(axis=,keepdims=))"
      ]
    },
    {
      "cell_type": "code",
      "execution_count": 57,
      "metadata": {
        "id": "VBW9eW0Gyn1A",
        "colab": {
          "base_uri": "https://localhost:8080/"
        },
        "outputId": "3eb97ad5-7214-42d9-e3fa-43b313c2166b"
      },
      "outputs": [
        {
          "output_type": "stream",
          "name": "stdout",
          "text": [
            "[[0.02113416 0.89587744 0.82681878 0.7080341  0.43606224 0.68725534\n",
            "  0.52207006 0.51245275 0.80105999 0.05020861]\n",
            " [0.16120825 0.65300483 0.56413023 0.89350552 0.22281747 0.54781374\n",
            "  0.62165811 0.32939213 0.72750735 0.69905635]\n",
            " [0.74484185 0.35212434 0.96903305 0.11360369 0.73409764 0.01930169\n",
            "  0.9631092  0.24962741 0.0656725  0.8196941 ]\n",
            " [0.72018894 0.87024766 0.79863475 0.75421415 0.36764239 0.16029893\n",
            "  0.02733279 0.38251064 0.062882   0.8185141 ]\n",
            " [0.23087113 0.53094207 0.5564306  0.93933852 0.60602545 0.51146056\n",
            "  0.98605886 0.39027417 0.51229072 0.88046847]]\n",
            "[[-0.52496319  0.34978009  0.28072143  0.16193675 -0.11003511  0.14115799\n",
            "  -0.02402729 -0.0336446   0.25496264 -0.49588874]\n",
            " [-0.38080115  0.11099543  0.02212084  0.35149612 -0.31919193  0.00580434\n",
            "   0.07964871 -0.21261726  0.18549795  0.15704695]\n",
            " [ 0.24173131 -0.15098621  0.46592251 -0.38950686  0.23098709 -0.48380886\n",
            "   0.45999866 -0.25348314 -0.43743804  0.31658355]\n",
            " [ 0.22394231  0.37400102  0.30238811  0.25796752 -0.12860424 -0.33594771\n",
            "  -0.46891384 -0.11373599 -0.43336464  0.32226746]\n",
            " [-0.38354493 -0.08347398 -0.05798545  0.32492247 -0.00839061 -0.10295549\n",
            "   0.3716428  -0.22414188 -0.10212534  0.26605241]]\n"
          ]
        }
      ],
      "source": [
        "X = np.random.rand(5, 10)\n",
        "print(X)\n",
        "Y = X - X.mean(axis=1, keepdims=True)\n",
        "print(Y)"
      ]
    },
    {
      "cell_type": "markdown",
      "metadata": {
        "id": "_tDtoDlUyn1A"
      },
      "source": [
        "#### 59. How to sort an array by the nth column? (★★☆) \n",
        "(**hint**: argsort)"
      ]
    },
    {
      "cell_type": "code",
      "execution_count": 58,
      "metadata": {
        "id": "mQuLOC1Gyn1A",
        "colab": {
          "base_uri": "https://localhost:8080/"
        },
        "outputId": "94869bb1-a087-45c9-c19c-41bcb260569e"
      },
      "outputs": [
        {
          "output_type": "stream",
          "name": "stdout",
          "text": [
            "[[2 3 1]\n",
            " [6 1 9]\n",
            " [3 4 1]]\n",
            "[[6 1 9]\n",
            " [2 3 1]\n",
            " [3 4 1]]\n"
          ]
        }
      ],
      "source": [
        "Z = np.random.randint(0,10,(3,3))\n",
        "print(Z)\n",
        "print(Z[Z[:,1].argsort()])"
      ]
    },
    {
      "cell_type": "markdown",
      "metadata": {
        "id": "yqjVXrUJyn1B"
      },
      "source": [
        "#### 60. How to tell if a given 2D array has null columns? (★★☆) \n",
        "(**hint**: any, ~)"
      ]
    },
    {
      "cell_type": "code",
      "execution_count": 59,
      "metadata": {
        "id": "aGXBwDRByn1B",
        "colab": {
          "base_uri": "https://localhost:8080/"
        },
        "outputId": "68ee44a7-5a6d-4074-9381-a5a97342ae3d"
      },
      "outputs": [
        {
          "output_type": "stream",
          "name": "stdout",
          "text": [
            "False\n"
          ]
        }
      ],
      "source": [
        "Z = np.random.randint(0,3,(3,10))\n",
        "print((~Z.any(axis=0)).any())"
      ]
    },
    {
      "cell_type": "markdown",
      "metadata": {
        "id": "KZSBwo2nyn1B"
      },
      "source": [
        "#### 61. Find the nearest value from a given value in an array (★★☆) \n",
        "(**hint**: np.abs, argmin, flat)"
      ]
    },
    {
      "cell_type": "code",
      "execution_count": 60,
      "metadata": {
        "id": "eKCOp0V7yn1B",
        "colab": {
          "base_uri": "https://localhost:8080/"
        },
        "outputId": "488d1dc7-dad5-40f8-a063-11a991d63004"
      },
      "outputs": [
        {
          "output_type": "stream",
          "name": "stdout",
          "text": [
            "0.47501559853895814\n"
          ]
        }
      ],
      "source": [
        "Z = np.random.uniform(0,1,10)\n",
        "z = 0.5\n",
        "m = Z.flat[np.abs(Z - z).argmin()]\n",
        "print(m)"
      ]
    },
    {
      "cell_type": "markdown",
      "metadata": {
        "id": "KMnmpqkUyn1B"
      },
      "source": [
        "#### 62. Considering two arrays with shape (1,3) and (3,1), how to compute their sum using an iterator? (★★☆) \n",
        "(**hint**: np.nditer)"
      ]
    },
    {
      "cell_type": "code",
      "execution_count": 61,
      "metadata": {
        "id": "od_VwtUzyn1B",
        "colab": {
          "base_uri": "https://localhost:8080/"
        },
        "outputId": "937806f4-8877-4a80-8ba1-bbde6c8278b7"
      },
      "outputs": [
        {
          "output_type": "stream",
          "name": "stdout",
          "text": [
            "[[0 1 2]\n",
            " [1 2 3]\n",
            " [2 3 4]]\n"
          ]
        }
      ],
      "source": [
        "A = np.arange(3).reshape(3,1)\n",
        "B = np.arange(3).reshape(1,3)\n",
        "it = np.nditer([A,B,None])\n",
        "for x,y,z in it: z[...] = x + y\n",
        "print(it.operands[2])"
      ]
    },
    {
      "cell_type": "markdown",
      "metadata": {
        "id": "uEKTGNuHyn1B"
      },
      "source": [
        "#### 63. Create an array class that has a name attribute (★★☆) \n",
        "(**hint**: class method)"
      ]
    },
    {
      "cell_type": "code",
      "execution_count": null,
      "metadata": {
        "id": "XZzXjhpTyn1B"
      },
      "outputs": [],
      "source": []
    },
    {
      "cell_type": "markdown",
      "metadata": {
        "id": "7Iegun7Zyn1B"
      },
      "source": [
        "#### 64. Consider a given vector, how to add 1 to each element indexed by a second vector (be careful with repeated indices)? (★★★) \n",
        "(**hint**: np.bincount | np.add.at)"
      ]
    },
    {
      "cell_type": "code",
      "execution_count": 63,
      "metadata": {
        "id": "QKNqzvjKyn1B",
        "colab": {
          "base_uri": "https://localhost:8080/"
        },
        "outputId": "28006dba-2697-40bc-b1f2-6bd55b748c0a"
      },
      "outputs": [
        {
          "output_type": "stream",
          "name": "stdout",
          "text": [
            "[3. 3. 4. 4. 3. 4. 2. 1. 3. 3.]\n"
          ]
        }
      ],
      "source": [
        "Z = np.ones(10)\n",
        "I = np.random.randint(0,len(Z),20)\n",
        "Z += np.bincount(I, minlength=len(Z))\n",
        "print(Z)\n",
        "\n"
      ]
    },
    {
      "cell_type": "markdown",
      "metadata": {
        "id": "7lSkjM8Iyn1B"
      },
      "source": [
        "#### 65. How to accumulate elements of a vector (X) to an array (F) based on an index list (I)? (★★★) \n",
        "(**hint**: np.bincount)"
      ]
    },
    {
      "cell_type": "code",
      "execution_count": 64,
      "metadata": {
        "id": "amQ9CBV4yn1B",
        "colab": {
          "base_uri": "https://localhost:8080/"
        },
        "outputId": "cb019f9f-a25c-469b-c18f-e91c51d170a2"
      },
      "outputs": [
        {
          "output_type": "stream",
          "name": "stdout",
          "text": [
            "[0. 7. 0. 6. 5. 0. 0. 0. 0. 3.]\n"
          ]
        }
      ],
      "source": [
        "X = [1,2,3,4,5,6]\n",
        "I = [1,3,9,3,4,1]\n",
        "F = np.bincount(I,X)\n",
        "print(F)"
      ]
    },
    {
      "cell_type": "markdown",
      "metadata": {
        "id": "MtavzbN3yn1B"
      },
      "source": [
        "#### 66. Considering a (w,h,3) image of (dtype=ubyte), compute the number of unique colors (★★★) \n",
        "(**hint**: np.unique)"
      ]
    },
    {
      "cell_type": "code",
      "execution_count": 65,
      "metadata": {
        "id": "NOKrQ9Liyn1B",
        "colab": {
          "base_uri": "https://localhost:8080/"
        },
        "outputId": "4f8a579f-853b-4c32-fa45-4996bae14d73"
      },
      "outputs": [
        {
          "output_type": "stream",
          "name": "stdout",
          "text": [
            "8\n"
          ]
        }
      ],
      "source": [
        "w,h = 16,16\n",
        "I = np.random.randint(0,2,(h,w,3)).astype(np.ubyte)\n",
        "F = I[...,0]*(256*256) + I[...,1]*256 +I[...,2]\n",
        "n = len(np.unique(F))\n",
        "print(n)"
      ]
    },
    {
      "cell_type": "markdown",
      "metadata": {
        "id": "fREOOWi1yn1B"
      },
      "source": [
        "#### 67. Considering a four dimensions array, how to get sum over the last two axis at once? (★★★) \n",
        "(**hint**: sum(axis=(-2,-1)))"
      ]
    },
    {
      "cell_type": "code",
      "execution_count": 66,
      "metadata": {
        "id": "4-Xs0xR5yn1C",
        "colab": {
          "base_uri": "https://localhost:8080/"
        },
        "outputId": "c23f2dd6-6703-4572-b785-b31d6d301f60"
      },
      "outputs": [
        {
          "output_type": "stream",
          "name": "stdout",
          "text": [
            "[[75 51 38 51]\n",
            " [57 52 46 60]\n",
            " [55 43 74 56]]\n"
          ]
        }
      ],
      "source": [
        "A = np.random.randint(0,10,(3,4,3,4))\n",
        "\n",
        "sum = A.sum(axis=(-2,-1))\n",
        "print(sum)\n"
      ]
    },
    {
      "cell_type": "markdown",
      "metadata": {
        "id": "fawbIPnqyn1C"
      },
      "source": [
        "#### 68. Considering a one-dimensional vector D, how to compute means of subsets of D using a vector S of same size describing subset  indices? (★★★) \n",
        "(**hint**: np.bincount)"
      ]
    },
    {
      "cell_type": "code",
      "execution_count": 67,
      "metadata": {
        "id": "sfDelRdFyn1C",
        "colab": {
          "base_uri": "https://localhost:8080/"
        },
        "outputId": "f9277fbe-6b5f-4f8b-a839-5671ef1ef4aa"
      },
      "outputs": [
        {
          "output_type": "stream",
          "name": "stdout",
          "text": [
            "[0.6543173  0.55053498 0.51366347 0.61034709 0.37666626 0.54243016\n",
            " 0.48852392 0.51197353 0.86156803 0.48288699]\n",
            "0    0.654317\n",
            "1    0.550535\n",
            "2    0.513663\n",
            "3    0.610347\n",
            "4    0.376666\n",
            "5    0.542430\n",
            "6    0.488524\n",
            "7    0.511974\n",
            "8    0.861568\n",
            "9    0.482887\n",
            "dtype: float64\n"
          ]
        }
      ],
      "source": [
        "D = np.random.uniform(0,1,100)\n",
        "S = np.random.randint(0,10,100)\n",
        "D_sums = np.bincount(S, weights=D)\n",
        "D_counts = np.bincount(S)\n",
        "D_means = D_sums / D_counts\n",
        "print(D_means)\n",
        "import pandas as pd\n",
        "print(pd.Series(D).groupby(S).mean())"
      ]
    },
    {
      "cell_type": "markdown",
      "metadata": {
        "id": "jsgvyMaKyn1C"
      },
      "source": [
        "#### 69. How to get the diagonal of a dot product? (★★★) \n",
        "(**hint**: np.diag)"
      ]
    },
    {
      "cell_type": "code",
      "execution_count": 68,
      "metadata": {
        "id": "xx22MvPPyn1C",
        "colab": {
          "base_uri": "https://localhost:8080/"
        },
        "outputId": "cf27bdcc-ccbb-4e37-80d8-9f70d8b8a8bd"
      },
      "outputs": [
        {
          "output_type": "execute_result",
          "data": {
            "text/plain": [
              "array([1.35794512, 1.51127745, 1.31531303, 1.79439656, 1.51131973])"
            ]
          },
          "metadata": {},
          "execution_count": 68
        }
      ],
      "source": [
        "A = np.random.uniform(0,1,(5,5))\n",
        "B = np.random.uniform(0,1,(5,5))\n",
        "\n",
        "  \n",
        "np.diag(np.dot(A, B))"
      ]
    },
    {
      "cell_type": "markdown",
      "metadata": {
        "id": "sMcyky4tyn1C"
      },
      "source": [
        "#### 70. Consider the vector \\[1, 2, 3, 4, 5\\], how to build a new vector with 3 consecutive zeros interleaved between each value? (★★★) \n",
        "(**hint**: array\\[::4\\])"
      ]
    },
    {
      "cell_type": "code",
      "execution_count": 69,
      "metadata": {
        "id": "DzjXIM-zyn1C",
        "colab": {
          "base_uri": "https://localhost:8080/"
        },
        "outputId": "3be2b2e2-b7c3-4a0e-b7f0-d2ad0d6e7c85"
      },
      "outputs": [
        {
          "output_type": "stream",
          "name": "stdout",
          "text": [
            "[1. 0. 0. 0. 2. 0. 0. 0. 3. 0. 0. 0. 4. 0. 0. 0. 5.]\n"
          ]
        }
      ],
      "source": [
        "Z = np.array([1,2,3,4,5])\n",
        "nz = 3\n",
        "Z0 = np.zeros(len(Z) + (len(Z)-1)*(nz))\n",
        "Z0[::nz+1] = Z\n",
        "print(Z0)"
      ]
    },
    {
      "cell_type": "markdown",
      "metadata": {
        "id": "mTLBsxfbyn1C"
      },
      "source": [
        "#### 71. Consider an array of dimension (5,5,3), how to mulitply it by an array with dimensions (5,5)? (★★★) \n",
        "(**hint**: array\\[:, :, None\\])"
      ]
    },
    {
      "cell_type": "code",
      "execution_count": 70,
      "metadata": {
        "collapsed": true,
        "id": "YBecCmKwyn1C",
        "colab": {
          "base_uri": "https://localhost:8080/"
        },
        "outputId": "bdf8c16c-b0ab-45be-a27c-5a8b2af47d3b"
      },
      "outputs": [
        {
          "output_type": "stream",
          "name": "stdout",
          "text": [
            "[[[2. 2. 2.]\n",
            "  [2. 2. 2.]\n",
            "  [2. 2. 2.]\n",
            "  [2. 2. 2.]\n",
            "  [2. 2. 2.]]\n",
            "\n",
            " [[2. 2. 2.]\n",
            "  [2. 2. 2.]\n",
            "  [2. 2. 2.]\n",
            "  [2. 2. 2.]\n",
            "  [2. 2. 2.]]\n",
            "\n",
            " [[2. 2. 2.]\n",
            "  [2. 2. 2.]\n",
            "  [2. 2. 2.]\n",
            "  [2. 2. 2.]\n",
            "  [2. 2. 2.]]\n",
            "\n",
            " [[2. 2. 2.]\n",
            "  [2. 2. 2.]\n",
            "  [2. 2. 2.]\n",
            "  [2. 2. 2.]\n",
            "  [2. 2. 2.]]\n",
            "\n",
            " [[2. 2. 2.]\n",
            "  [2. 2. 2.]\n",
            "  [2. 2. 2.]\n",
            "  [2. 2. 2.]\n",
            "  [2. 2. 2.]]]\n"
          ]
        }
      ],
      "source": [
        "A = np.ones((5,5,3))\n",
        "B = 2*np.ones((5,5))\n",
        "print(A * B[:,:,None])"
      ]
    },
    {
      "cell_type": "markdown",
      "metadata": {
        "id": "2w8Xkm8eyn1C"
      },
      "source": [
        "#### 72. How to swap two rows of an array? (★★★) \n",
        "(**hint**: array\\[\\[\\]\\] = array\\[\\[\\]\\])"
      ]
    },
    {
      "cell_type": "code",
      "execution_count": 71,
      "metadata": {
        "id": "t9b8ltWHyn1C",
        "colab": {
          "base_uri": "https://localhost:8080/"
        },
        "outputId": "cda0df2b-79d5-4a58-e1b0-38e7b7e79c8c"
      },
      "outputs": [
        {
          "output_type": "stream",
          "name": "stdout",
          "text": [
            "[[ 5  6  7  8  9]\n",
            " [ 0  1  2  3  4]\n",
            " [10 11 12 13 14]\n",
            " [15 16 17 18 19]\n",
            " [20 21 22 23 24]]\n"
          ]
        }
      ],
      "source": [
        "A = np.arange(25).reshape(5,5)\n",
        "A[[0,1]] = A[[1,0]]\n",
        "print(A)"
      ]
    },
    {
      "cell_type": "markdown",
      "metadata": {
        "id": "KQMNms0Wyn1C"
      },
      "source": [
        "#### 73. Consider a set of 10 triplets describing 10 triangles (with shared vertices), find the set of unique line segments composing all the  triangles (★★★) \n",
        "(**hint**: repeat, np.roll, np.sort, view, np.unique)"
      ]
    },
    {
      "cell_type": "code",
      "execution_count": 72,
      "metadata": {
        "id": "qwBBRTN3yn1C",
        "colab": {
          "base_uri": "https://localhost:8080/"
        },
        "outputId": "da26424e-27cf-4e8e-9db2-bd94162fd7b2"
      },
      "outputs": [
        {
          "output_type": "stream",
          "name": "stdout",
          "text": [
            "[(11, 78) (11, 95) (12, 30) (12, 55) (12, 72) (12, 76) (17, 54) (17, 79)\n",
            " (18, 78) (18, 80) (20, 24) (20, 80) (24, 80) (30, 72) (38, 45) (38, 79)\n",
            " (42, 67) (42, 80) (45, 79) (52, 74) (52, 93) (54, 79) (55, 76) (61, 67)\n",
            " (61, 84) (67, 80) (67, 84) (74, 93) (78, 80) (78, 95)]\n"
          ]
        }
      ],
      "source": [
        "faces = np.random.randint(0,100,(10,3))\n",
        "F = np.roll(faces.repeat(2,axis=1),-1,axis=1)\n",
        "F = F.reshape(len(F)*3,2)\n",
        "F = np.sort(F,axis=1)\n",
        "G = F.view( dtype=[('p0',F.dtype),('p1',F.dtype)] )\n",
        "G = np.unique(G)\n",
        "print(G)"
      ]
    },
    {
      "cell_type": "markdown",
      "metadata": {
        "id": "fOtX-5sUyn1C"
      },
      "source": [
        "#### 74. Given an array C that is a bincount, how to produce an array A such that np.bincount(A) == C? (★★★) \n",
        "(**hint**: np.repeat)"
      ]
    },
    {
      "cell_type": "code",
      "execution_count": 73,
      "metadata": {
        "id": "7SgwzFs-yn1D",
        "colab": {
          "base_uri": "https://localhost:8080/"
        },
        "outputId": "d1c0d20f-ed7c-4d61-b085-2f16424f73ec"
      },
      "outputs": [
        {
          "output_type": "stream",
          "name": "stdout",
          "text": [
            "[1 1 2 3 4 4 6]\n"
          ]
        }
      ],
      "source": [
        "C = np.bincount([1,1,2,3,4,4,6])\n",
        "A = np.repeat(np.arange(len(C)), C)\n",
        "print(A)"
      ]
    },
    {
      "cell_type": "markdown",
      "metadata": {
        "id": "jpNy_dsAyn1D"
      },
      "source": [
        "#### 75. How to compute averages using a sliding window over an array? (★★★) \n",
        "(**hint**: np.cumsum)"
      ]
    },
    {
      "cell_type": "code",
      "execution_count": 74,
      "metadata": {
        "id": "7C21cq6Yyn1D",
        "colab": {
          "base_uri": "https://localhost:8080/"
        },
        "outputId": "c8806879-9c0f-4a37-dbd9-d8da609763a4"
      },
      "outputs": [
        {
          "output_type": "stream",
          "name": "stdout",
          "text": [
            "[ 1.  2.  3.  4.  5.  6.  7.  8.  9. 10. 11. 12. 13. 14. 15. 16. 17. 18.]\n"
          ]
        }
      ],
      "source": [
        "def moving_average(a, n=3) :\n",
        "    ret = np.cumsum(a, dtype=float)\n",
        "    ret[n:] = ret[n:] - ret[:-n]\n",
        "    return ret[n - 1:] / n\n",
        "Z = np.arange(20)\n",
        "print(moving_average(Z, n=3))"
      ]
    },
    {
      "cell_type": "markdown",
      "metadata": {
        "id": "clkm1nhtyn1D"
      },
      "source": [
        "#### 76. Consider a one-dimensional array Z, build a two-dimensional array whose first row is (Z\\[0\\],Z\\[1\\],Z\\[2\\]) and each subsequent row is  shifted by 1 (last row should be (Z\\[-3\\],Z\\[-2\\],Z\\[-1\\]) (★★★) \n",
        "(**hint**: from numpy.lib import stride_tricks)"
      ]
    },
    {
      "cell_type": "code",
      "execution_count": 75,
      "metadata": {
        "id": "8NTSNB7Zyn1D",
        "colab": {
          "base_uri": "https://localhost:8080/"
        },
        "outputId": "9576f76d-48b3-439b-e24a-f498023432a7"
      },
      "outputs": [
        {
          "output_type": "stream",
          "name": "stdout",
          "text": [
            "[[0 1 2]\n",
            " [1 2 3]\n",
            " [2 3 4]\n",
            " [3 4 5]\n",
            " [4 5 6]\n",
            " [5 6 7]\n",
            " [6 7 8]\n",
            " [7 8 9]]\n"
          ]
        }
      ],
      "source": [
        "from numpy.lib import stride_tricks\n",
        "\n",
        "def rolling(a, window):\n",
        "    shape = (a.size - window + 1, window)\n",
        "    strides = (a.itemsize, a.itemsize)\n",
        "    return stride_tricks.as_strided(a, shape=shape, strides=strides)\n",
        "Z = rolling(np.arange(10), 3)\n",
        "print(Z)"
      ]
    },
    {
      "cell_type": "markdown",
      "metadata": {
        "id": "PFyldCcqyn1D"
      },
      "source": [
        "#### 77. How to negate a boolean, or to change the sign of a float inplace? (★★★) \n",
        "(**hint**: np.logical_not, np.negative)"
      ]
    },
    {
      "cell_type": "code",
      "execution_count": 76,
      "metadata": {
        "id": "TiUA1cEEyn1D",
        "colab": {
          "base_uri": "https://localhost:8080/"
        },
        "outputId": "b7c2b49f-4259-4888-ae6b-ec8576a0e6ae"
      },
      "outputs": [
        {
          "output_type": "execute_result",
          "data": {
            "text/plain": [
              "array([ 0.22602591, -0.88649595,  0.55054193, -0.18564397, -0.08598361,\n",
              "       -0.98737678,  0.07405893,  0.66655952, -0.40195368,  0.83109561,\n",
              "       -0.75582807,  0.43028207,  0.45700415,  0.00662782,  0.77393809,\n",
              "        0.1612506 ,  0.72439817,  0.7812904 , -0.81595233,  0.91878271,\n",
              "       -0.6542514 , -0.70444411, -0.10527215,  0.57537035,  0.11659338,\n",
              "        0.48216021, -0.64981712, -0.84654115, -0.07080897,  0.51347947,\n",
              "       -0.64832592,  0.96621992,  0.40759724, -0.74149737, -0.02368933,\n",
              "        0.39982277,  0.52121492,  0.50971215,  0.94268548, -0.50422137,\n",
              "        0.95437514, -0.98744525,  0.17766111,  0.94437915,  0.95236049,\n",
              "        0.64624716,  0.38580045, -0.05297975,  0.39255799, -0.39185762,\n",
              "        0.38615583,  0.62115478, -0.61234409,  0.42323962, -0.45019192,\n",
              "        0.19832334, -0.91124378,  0.53790927,  0.94807308,  0.2373032 ,\n",
              "       -0.47539857,  0.620629  ,  0.41723712,  0.2526099 ,  0.29747228,\n",
              "       -0.58137557,  0.01190069, -0.17606076,  0.60607265, -0.12556798,\n",
              "        0.44986218, -0.95688153,  0.72633191, -0.05609657,  0.37333394,\n",
              "       -0.5241718 ,  0.80814476,  0.54124054,  0.1210726 , -0.31456088,\n",
              "        0.00431079, -0.13028149, -0.48040274,  0.10835819, -0.39727161,\n",
              "        0.61449772, -0.82968778, -0.85143608, -0.0406344 ,  0.16537647,\n",
              "       -0.48237219, -0.27885734, -0.36695682,  0.78067709,  0.85678955,\n",
              "       -0.84318449,  0.78491619, -0.34199064, -0.13634579,  0.2977832 ])"
            ]
          },
          "metadata": {},
          "execution_count": 76
        }
      ],
      "source": [
        "Z = np.random.randint(0,2,100)\n",
        "np.logical_not(Z, out=Z)\n",
        "\n",
        "Z = np.random.uniform(-1.0,1.0,100)\n",
        "np.negative(Z, out=Z)"
      ]
    },
    {
      "cell_type": "markdown",
      "metadata": {
        "id": "p-Hrfb0qyn1D"
      },
      "source": [
        "#### 78. Consider 2 sets of points P0,P1 describing lines (2d) and a point p, how to compute distance from p to each line i  (P0\\[i\\],P1\\[i\\])? (★★★)"
      ]
    },
    {
      "cell_type": "code",
      "execution_count": 77,
      "metadata": {
        "id": "se26-WgHyn1D",
        "colab": {
          "base_uri": "https://localhost:8080/"
        },
        "outputId": "33d507d0-9fc3-4463-8f3d-1dfda5a7b476"
      },
      "outputs": [
        {
          "output_type": "stream",
          "name": "stdout",
          "text": [
            "[ 6.97307026 15.87384114 14.57400823  7.33728687  0.58440425  4.06116367\n",
            "  0.74037406  1.62470965  0.60481259 14.93136792]\n"
          ]
        }
      ],
      "source": [
        "def distance(P0, P1, p):\n",
        "    T = P1 - P0\n",
        "    L = (T**2).sum(axis=1)\n",
        "    U = -((P0[:,0]-p[...,0])*T[:,0] + (P0[:,1]-p[...,1])*T[:,1]) / L\n",
        "    U = U.reshape(len(U),1)\n",
        "    D = P0 + U*T - p\n",
        "    return np.sqrt((D**2).sum(axis=1))\n",
        "\n",
        "P0 = np.random.uniform(-10,10,(10,2))\n",
        "P1 = np.random.uniform(-10,10,(10,2))\n",
        "p  = np.random.uniform(-10,10,( 1,2))\n",
        "print(distance(P0, P1, p))"
      ]
    },
    {
      "cell_type": "markdown",
      "metadata": {
        "id": "detbFQwqyn1D"
      },
      "source": [
        "#### 79. Consider 2 sets of points P0,P1 describing lines (2d) and a set of points P, how to compute distance from each point j (P\\[j\\]) to each line i (P0\\[i\\],P1\\[i\\])? (★★★)"
      ]
    },
    {
      "cell_type": "code",
      "execution_count": 78,
      "metadata": {
        "id": "e51fV6auyn1D",
        "colab": {
          "base_uri": "https://localhost:8080/"
        },
        "outputId": "8f09b875-11b7-4922-92cf-c9f62ec275a0"
      },
      "outputs": [
        {
          "output_type": "stream",
          "name": "stdout",
          "text": [
            "[[ 5.86646302  8.88392434  7.60654966  9.72737901  7.13974643 13.11534707\n",
            "   3.78038754 17.04771641  6.25862517  7.38785336]\n",
            " [ 0.09819421 11.71995905  5.46516029  3.31801189  0.94742861 16.17453982\n",
            "   5.131638   12.06270878  0.09352303  0.92153187]\n",
            " [ 8.154818    5.30048313  4.65138653 10.27578999  7.11107349  9.55840871\n",
            "   0.15458825 15.61106184  6.60732791  8.41977888]\n",
            " [ 2.03354832  9.95667007  5.09582682  5.03469322  2.4381789  14.36517929\n",
            "   3.71513847 12.83812239  1.54930436  2.79726844]\n",
            " [ 4.52197198 12.68670804  2.15669116  2.30584226  4.74037701 17.35786656\n",
            "   4.71841157  6.83997342  5.75590699  4.53427754]\n",
            " [ 4.44976321  3.42179114  2.18835267  3.50731864  0.24296153  7.9818963\n",
            "   3.53920624  7.62867647  0.38491651  2.28941779]\n",
            " [ 0.91214718 12.96709721  6.47471957  3.10191478  0.93116074 17.41348524\n",
            "   6.38710593 12.53685078  0.24054191  0.53853365]\n",
            " [ 8.18499512  6.29612645 12.86725289  1.44043111  4.01739605  1.51893838\n",
            "  14.27508103  0.09125606  3.05336876  1.72750421]\n",
            " [ 2.9284086   6.90735421  1.44598402  3.98737275  0.83906494 11.40027264\n",
            "   0.24508024 10.06445401  0.30649388  2.24391953]\n",
            " [ 8.40807692  3.91932472  2.83420926  9.58266399  6.15924376  8.22442016\n",
            "   1.47272537 14.1306334   5.82196508  7.96231663]]\n"
          ]
        }
      ],
      "source": [
        "P0 = np.random.uniform(-10, 10, (10,2))\n",
        "P1 = np.random.uniform(-10,10,(10,2))\n",
        "p = np.random.uniform(-10, 10, (10,2))\n",
        "print(np.array([distance(P0,P1,p_i) for p_i in p]))"
      ]
    },
    {
      "cell_type": "markdown",
      "metadata": {
        "id": "nP757SFsyn1D"
      },
      "source": [
        "#### 80. Consider an arbitrary array, write a function that extract a subpart with a fixed shape and centered on a given element (pad with a `fill` value when necessary) (★★★) \n",
        "(**hint**: minimum, maximum)"
      ]
    },
    {
      "cell_type": "code",
      "execution_count": null,
      "metadata": {
        "id": "4wHheDo_yn1D"
      },
      "outputs": [],
      "source": []
    },
    {
      "cell_type": "markdown",
      "metadata": {
        "id": "5uHQaXpUyn1D"
      },
      "source": [
        "#### 81. Consider an array Z = \\[1,2,3,4,5,6,7,8,9,10,11,12,13,14\\], how to generate an array R = \\[\\[1,2,3,4\\], \\[2,3,4,5\\], \\[3,4,5,6\\], ..., \\[11,12,13,14\\]\\]? (★★★) \n",
        "(**hint**: stride\\_tricks.as\\_strided)"
      ]
    },
    {
      "cell_type": "code",
      "execution_count": 79,
      "metadata": {
        "id": "zXtAMcNTyn1D",
        "colab": {
          "base_uri": "https://localhost:8080/"
        },
        "outputId": "9f96b2be-0e2e-4cab-918f-6baab9e10a9c"
      },
      "outputs": [
        {
          "output_type": "stream",
          "name": "stdout",
          "text": [
            "[[ 1  2  3  4]\n",
            " [ 2  3  4  5]\n",
            " [ 3  4  5  6]\n",
            " [ 4  5  6  7]\n",
            " [ 5  6  7  8]\n",
            " [ 6  7  8  9]\n",
            " [ 7  8  9 10]\n",
            " [ 8  9 10 11]\n",
            " [ 9 10 11 12]\n",
            " [10 11 12 13]\n",
            " [11 12 13 14]]\n"
          ]
        }
      ],
      "source": [
        "Z = np.arange(1,15,dtype=np.uint32)\n",
        "R = stride_tricks.as_strided(Z,(11,4),(4,4))\n",
        "print(R)"
      ]
    },
    {
      "cell_type": "markdown",
      "metadata": {
        "id": "h8T8w8Tnyn1D"
      },
      "source": [
        "#### 82. Compute a matrix rank (★★★) \n",
        "(**hint**: np.linalg.svd) (suggestion: np.linalg.svd)"
      ]
    },
    {
      "cell_type": "code",
      "execution_count": 80,
      "metadata": {
        "id": "6fsAsTmWyn1E",
        "colab": {
          "base_uri": "https://localhost:8080/"
        },
        "outputId": "b43b39d0-b9b0-48ab-ae96-c9df05a39577"
      },
      "outputs": [
        {
          "output_type": "stream",
          "name": "stdout",
          "text": [
            "[[ 1  2  3  4]\n",
            " [ 2  3  4  5]\n",
            " [ 3  4  5  6]\n",
            " [ 4  5  6  7]\n",
            " [ 5  6  7  8]\n",
            " [ 6  7  8  9]\n",
            " [ 7  8  9 10]\n",
            " [ 8  9 10 11]\n",
            " [ 9 10 11 12]\n",
            " [10 11 12 13]\n",
            " [11 12 13 14]]\n"
          ]
        }
      ],
      "source": [
        "Z = np.arange(1,15,dtype=np.uint32)\n",
        "R = stride_tricks.as_strided(Z,(11,4),(4,4))\n",
        "print(R)"
      ]
    },
    {
      "cell_type": "markdown",
      "metadata": {
        "id": "3ZzgWS45yn1E"
      },
      "source": [
        "#### 83. How to find the most frequent value in an array? \n",
        "(**hint**: np.bincount, argmax)"
      ]
    },
    {
      "cell_type": "code",
      "execution_count": 81,
      "metadata": {
        "id": "takUtWTFyn1E",
        "colab": {
          "base_uri": "https://localhost:8080/"
        },
        "outputId": "9e8dac53-1dc2-4faf-ae9a-36c6b1d26e26"
      },
      "outputs": [
        {
          "output_type": "stream",
          "name": "stdout",
          "text": [
            "4\n"
          ]
        }
      ],
      "source": [
        "Z = np.random.randint(0,10,50)\n",
        "print(np.bincount(Z).argmax())\n"
      ]
    },
    {
      "cell_type": "markdown",
      "metadata": {
        "id": "82ncANuYyn1E"
      },
      "source": [
        "#### 84. Extract all the contiguous 3x3 blocks from a random 10x10 matrix (★★★) \n",
        "(**hint**: stride\\_tricks.as\\_strided)"
      ]
    },
    {
      "cell_type": "code",
      "execution_count": 82,
      "metadata": {
        "id": "T7M5mBAMyn1E",
        "colab": {
          "base_uri": "https://localhost:8080/"
        },
        "outputId": "66eb2c96-947a-47db-9e85-6bb4737c7d7a"
      },
      "outputs": [
        {
          "output_type": "stream",
          "name": "stdout",
          "text": [
            "[[[[3 4 0]\n",
            "   [3 0 1]\n",
            "   [3 0 3]]\n",
            "\n",
            "  [[4 0 1]\n",
            "   [0 1 2]\n",
            "   [0 3 4]]\n",
            "\n",
            "  [[0 1 0]\n",
            "   [1 2 1]\n",
            "   [3 4 0]]\n",
            "\n",
            "  [[1 0 4]\n",
            "   [2 1 2]\n",
            "   [4 0 4]]\n",
            "\n",
            "  [[0 4 1]\n",
            "   [1 2 1]\n",
            "   [0 4 2]]\n",
            "\n",
            "  [[4 1 0]\n",
            "   [2 1 2]\n",
            "   [4 2 4]]\n",
            "\n",
            "  [[1 0 2]\n",
            "   [1 2 4]\n",
            "   [2 4 3]]\n",
            "\n",
            "  [[0 2 2]\n",
            "   [2 4 0]\n",
            "   [4 3 1]]]\n",
            "\n",
            "\n",
            " [[[3 0 1]\n",
            "   [3 0 3]\n",
            "   [1 4 4]]\n",
            "\n",
            "  [[0 1 2]\n",
            "   [0 3 4]\n",
            "   [4 4 1]]\n",
            "\n",
            "  [[1 2 1]\n",
            "   [3 4 0]\n",
            "   [4 1 3]]\n",
            "\n",
            "  [[2 1 2]\n",
            "   [4 0 4]\n",
            "   [1 3 3]]\n",
            "\n",
            "  [[1 2 1]\n",
            "   [0 4 2]\n",
            "   [3 3 2]]\n",
            "\n",
            "  [[2 1 2]\n",
            "   [4 2 4]\n",
            "   [3 2 3]]\n",
            "\n",
            "  [[1 2 4]\n",
            "   [2 4 3]\n",
            "   [2 3 1]]\n",
            "\n",
            "  [[2 4 0]\n",
            "   [4 3 1]\n",
            "   [3 1 4]]]\n",
            "\n",
            "\n",
            " [[[3 0 3]\n",
            "   [1 4 4]\n",
            "   [4 2 0]]\n",
            "\n",
            "  [[0 3 4]\n",
            "   [4 4 1]\n",
            "   [2 0 0]]\n",
            "\n",
            "  [[3 4 0]\n",
            "   [4 1 3]\n",
            "   [0 0 2]]\n",
            "\n",
            "  [[4 0 4]\n",
            "   [1 3 3]\n",
            "   [0 2 1]]\n",
            "\n",
            "  [[0 4 2]\n",
            "   [3 3 2]\n",
            "   [2 1 2]]\n",
            "\n",
            "  [[4 2 4]\n",
            "   [3 2 3]\n",
            "   [1 2 3]]\n",
            "\n",
            "  [[2 4 3]\n",
            "   [2 3 1]\n",
            "   [2 3 2]]\n",
            "\n",
            "  [[4 3 1]\n",
            "   [3 1 4]\n",
            "   [3 2 0]]]\n",
            "\n",
            "\n",
            " [[[1 4 4]\n",
            "   [4 2 0]\n",
            "   [1 2 2]]\n",
            "\n",
            "  [[4 4 1]\n",
            "   [2 0 0]\n",
            "   [2 2 0]]\n",
            "\n",
            "  [[4 1 3]\n",
            "   [0 0 2]\n",
            "   [2 0 3]]\n",
            "\n",
            "  [[1 3 3]\n",
            "   [0 2 1]\n",
            "   [0 3 0]]\n",
            "\n",
            "  [[3 3 2]\n",
            "   [2 1 2]\n",
            "   [3 0 4]]\n",
            "\n",
            "  [[3 2 3]\n",
            "   [1 2 3]\n",
            "   [0 4 0]]\n",
            "\n",
            "  [[2 3 1]\n",
            "   [2 3 2]\n",
            "   [4 0 4]]\n",
            "\n",
            "  [[3 1 4]\n",
            "   [3 2 0]\n",
            "   [0 4 4]]]\n",
            "\n",
            "\n",
            " [[[4 2 0]\n",
            "   [1 2 2]\n",
            "   [1 0 1]]\n",
            "\n",
            "  [[2 0 0]\n",
            "   [2 2 0]\n",
            "   [0 1 0]]\n",
            "\n",
            "  [[0 0 2]\n",
            "   [2 0 3]\n",
            "   [1 0 1]]\n",
            "\n",
            "  [[0 2 1]\n",
            "   [0 3 0]\n",
            "   [0 1 2]]\n",
            "\n",
            "  [[2 1 2]\n",
            "   [3 0 4]\n",
            "   [1 2 1]]\n",
            "\n",
            "  [[1 2 3]\n",
            "   [0 4 0]\n",
            "   [2 1 1]]\n",
            "\n",
            "  [[2 3 2]\n",
            "   [4 0 4]\n",
            "   [1 1 0]]\n",
            "\n",
            "  [[3 2 0]\n",
            "   [0 4 4]\n",
            "   [1 0 4]]]\n",
            "\n",
            "\n",
            " [[[1 2 2]\n",
            "   [1 0 1]\n",
            "   [4 0 1]]\n",
            "\n",
            "  [[2 2 0]\n",
            "   [0 1 0]\n",
            "   [0 1 3]]\n",
            "\n",
            "  [[2 0 3]\n",
            "   [1 0 1]\n",
            "   [1 3 3]]\n",
            "\n",
            "  [[0 3 0]\n",
            "   [0 1 2]\n",
            "   [3 3 3]]\n",
            "\n",
            "  [[3 0 4]\n",
            "   [1 2 1]\n",
            "   [3 3 4]]\n",
            "\n",
            "  [[0 4 0]\n",
            "   [2 1 1]\n",
            "   [3 4 4]]\n",
            "\n",
            "  [[4 0 4]\n",
            "   [1 1 0]\n",
            "   [4 4 3]]\n",
            "\n",
            "  [[0 4 4]\n",
            "   [1 0 4]\n",
            "   [4 3 3]]]\n",
            "\n",
            "\n",
            " [[[1 0 1]\n",
            "   [4 0 1]\n",
            "   [2 4 1]]\n",
            "\n",
            "  [[0 1 0]\n",
            "   [0 1 3]\n",
            "   [4 1 1]]\n",
            "\n",
            "  [[1 0 1]\n",
            "   [1 3 3]\n",
            "   [1 1 4]]\n",
            "\n",
            "  [[0 1 2]\n",
            "   [3 3 3]\n",
            "   [1 4 4]]\n",
            "\n",
            "  [[1 2 1]\n",
            "   [3 3 4]\n",
            "   [4 4 4]]\n",
            "\n",
            "  [[2 1 1]\n",
            "   [3 4 4]\n",
            "   [4 4 0]]\n",
            "\n",
            "  [[1 1 0]\n",
            "   [4 4 3]\n",
            "   [4 0 1]]\n",
            "\n",
            "  [[1 0 4]\n",
            "   [4 3 3]\n",
            "   [0 1 3]]]\n",
            "\n",
            "\n",
            " [[[4 0 1]\n",
            "   [2 4 1]\n",
            "   [4 2 2]]\n",
            "\n",
            "  [[0 1 3]\n",
            "   [4 1 1]\n",
            "   [2 2 3]]\n",
            "\n",
            "  [[1 3 3]\n",
            "   [1 1 4]\n",
            "   [2 3 3]]\n",
            "\n",
            "  [[3 3 3]\n",
            "   [1 4 4]\n",
            "   [3 3 0]]\n",
            "\n",
            "  [[3 3 4]\n",
            "   [4 4 4]\n",
            "   [3 0 0]]\n",
            "\n",
            "  [[3 4 4]\n",
            "   [4 4 0]\n",
            "   [0 0 4]]\n",
            "\n",
            "  [[4 4 3]\n",
            "   [4 0 1]\n",
            "   [0 4 4]]\n",
            "\n",
            "  [[4 3 3]\n",
            "   [0 1 3]\n",
            "   [4 4 4]]]]\n"
          ]
        }
      ],
      "source": [
        "Z = np.random.randint(0,5,(10,10))\n",
        "n = 3\n",
        "i = 1 + (Z.shape[0]-3)\n",
        "j = 1 + (Z.shape[1]-3)\n",
        "C = stride_tricks.as_strided(Z, shape=(i, j, n, n), strides=Z.strides + Z.strides)\n",
        "print(C)"
      ]
    },
    {
      "cell_type": "markdown",
      "metadata": {
        "id": "cv9T7O2Lyn1E"
      },
      "source": [
        "#### 85. Create a 2D array subclass such that Z\\[i,j\\] == Z\\[j,i\\] (★★★) \n",
        "(**hint**: class method)"
      ]
    },
    {
      "cell_type": "code",
      "execution_count": 83,
      "metadata": {
        "id": "e_sF_n7byn1E",
        "colab": {
          "base_uri": "https://localhost:8080/"
        },
        "outputId": "ba74003d-8ebf-4dc7-c559-5328f8fe3b83"
      },
      "outputs": [
        {
          "output_type": "stream",
          "name": "stdout",
          "text": [
            "[[ 4 16 17  6 11]\n",
            " [16  3 12  9 10]\n",
            " [17 12  3 42  7]\n",
            " [ 6  9 42  2 12]\n",
            " [11 10  7 12  2]]\n"
          ]
        }
      ],
      "source": [
        "class Symetric(np.ndarray):\n",
        "    def __setitem__(self, index, value):\n",
        "        i,j = index\n",
        "        super(Symetric, self).__setitem__((i,j), value)\n",
        "        super(Symetric, self).__setitem__((j,i), value)\n",
        "\n",
        "def symetric(Z):\n",
        "    return np.asarray(Z + Z.T - np.diag(Z.diagonal())).view(Symetric)\n",
        "\n",
        "S = symetric(np.random.randint(0,10,(5,5)))\n",
        "S[2,3] = 42\n",
        "print(S)"
      ]
    },
    {
      "cell_type": "markdown",
      "metadata": {
        "id": "UEBaDLVzyn1E"
      },
      "source": [
        "#### 86. Consider a set of p matrices wich shape (n,n) and a set of p vectors with shape (n,1). How to compute the sum of of the p matrix products at once? (result has shape (n,1)) (★★★) \n",
        "(**hint**: np.tensordot)"
      ]
    },
    {
      "cell_type": "code",
      "execution_count": 84,
      "metadata": {
        "id": "ujRnVbrEyn1E",
        "colab": {
          "base_uri": "https://localhost:8080/"
        },
        "outputId": "aa6c282e-31e3-4a80-df13-3a4c873c39fa"
      },
      "outputs": [
        {
          "output_type": "stream",
          "name": "stdout",
          "text": [
            "[[200.]\n",
            " [200.]\n",
            " [200.]\n",
            " [200.]\n",
            " [200.]\n",
            " [200.]\n",
            " [200.]\n",
            " [200.]\n",
            " [200.]\n",
            " [200.]\n",
            " [200.]\n",
            " [200.]\n",
            " [200.]\n",
            " [200.]\n",
            " [200.]\n",
            " [200.]\n",
            " [200.]\n",
            " [200.]\n",
            " [200.]\n",
            " [200.]]\n"
          ]
        }
      ],
      "source": [
        "p, n = 10, 20\n",
        "M = np.ones((p,n,n))\n",
        "V = np.ones((p,n,1))\n",
        "S = np.tensordot(M, V, axes=[[0, 2], [0, 1]])\n",
        "print(S)"
      ]
    },
    {
      "cell_type": "markdown",
      "metadata": {
        "id": "hAD6sNAZyn1E"
      },
      "source": [
        "#### 87. Consider a 16x16 array, how to get the block-sum (block size is 4x4)? (★★★) \n",
        "(**hint**: np.add.reduceat)"
      ]
    },
    {
      "cell_type": "code",
      "execution_count": 85,
      "metadata": {
        "id": "FtF4Glogyn1E",
        "colab": {
          "base_uri": "https://localhost:8080/"
        },
        "outputId": "85628eca-9883-460c-b612-63b1db21fae6"
      },
      "outputs": [
        {
          "output_type": "stream",
          "name": "stdout",
          "text": [
            "[[16. 16. 16. 16.]\n",
            " [16. 16. 16. 16.]\n",
            " [16. 16. 16. 16.]\n",
            " [16. 16. 16. 16.]]\n"
          ]
        }
      ],
      "source": [
        "Z = np.ones((16,16))\n",
        "k = 4\n",
        "S = np.add.reduceat(np.add.reduceat(Z, np.arange(0, Z.shape[0], k), axis=0),\n",
        "                                       np.arange(0, Z.shape[1], k), axis=1)\n",
        "print(S)"
      ]
    },
    {
      "cell_type": "markdown",
      "metadata": {
        "id": "srGrhJw3yn1E"
      },
      "source": [
        "#### 88. How to implement the Game of Life using numpy arrays? (★★★)"
      ]
    },
    {
      "cell_type": "code",
      "execution_count": null,
      "metadata": {
        "id": "Fk15dsSDyn1E"
      },
      "outputs": [],
      "source": []
    },
    {
      "cell_type": "markdown",
      "metadata": {
        "id": "tV8UC0xqyn1E"
      },
      "source": [
        "#### 89. How to get the n largest values of an array (★★★) \n",
        "(**hint**: np.argsort | np.argpartition)"
      ]
    },
    {
      "cell_type": "code",
      "execution_count": null,
      "metadata": {
        "id": "pjmE55VJyn1E"
      },
      "outputs": [],
      "source": []
    },
    {
      "cell_type": "markdown",
      "metadata": {
        "id": "qoM1Cleiyn1E"
      },
      "source": [
        "#### 90. Given an arbitrary number of vectors, build the cartesian product (every combinations of every item) (★★★) \n",
        "(**hint**: np.indices)"
      ]
    },
    {
      "cell_type": "code",
      "execution_count": null,
      "metadata": {
        "scrolled": true,
        "id": "Ri0KUoIzyn1E"
      },
      "outputs": [],
      "source": []
    },
    {
      "cell_type": "markdown",
      "metadata": {
        "id": "rDUcRQsByn1E"
      },
      "source": [
        "#### 91. How to create a record array from a regular array? (★★★) \n",
        "(**hint**: np.core.records.fromarrays)"
      ]
    },
    {
      "cell_type": "code",
      "execution_count": null,
      "metadata": {
        "id": "TyjjOmRQyn1E"
      },
      "outputs": [],
      "source": []
    },
    {
      "cell_type": "markdown",
      "metadata": {
        "id": "xSLMDPbvyn1E"
      },
      "source": [
        "#### 92. Consider a large vector Z, compute Z to the power of 3 using 3 different methods (★★★) \n",
        "(**hint**: np.power, \\*, np.einsum)"
      ]
    },
    {
      "cell_type": "code",
      "execution_count": null,
      "metadata": {
        "id": "aLFuTxn9yn1F"
      },
      "outputs": [],
      "source": []
    },
    {
      "cell_type": "markdown",
      "metadata": {
        "id": "waszJHBpyn1F"
      },
      "source": [
        "#### 93. Consider two arrays A and B of shape (8,3) and (2,2). How to find rows of A that contain elements of each row of B regardless of the order of the elements in B? (★★★) \n",
        "(**hint**: np.where)"
      ]
    },
    {
      "cell_type": "code",
      "execution_count": null,
      "metadata": {
        "id": "yP_ks87ayn1F"
      },
      "outputs": [],
      "source": []
    },
    {
      "cell_type": "markdown",
      "metadata": {
        "id": "Fxx2mwlYyn1F"
      },
      "source": [
        "#### 94. Considering a 10x3 matrix, extract rows with unequal values (e.g. \\[2,2,3\\]) (★★★)"
      ]
    },
    {
      "cell_type": "code",
      "execution_count": null,
      "metadata": {
        "id": "LIoMAK0Xyn1F"
      },
      "outputs": [],
      "source": []
    },
    {
      "cell_type": "markdown",
      "metadata": {
        "id": "HmksyLqayn1F"
      },
      "source": [
        "#### 95. Convert a vector of ints into a matrix binary representation (★★★) \n",
        "(**hint**: np.unpackbits)"
      ]
    },
    {
      "cell_type": "code",
      "execution_count": null,
      "metadata": {
        "id": "FaLUJD63yn1F"
      },
      "outputs": [],
      "source": []
    },
    {
      "cell_type": "markdown",
      "metadata": {
        "id": "ZtJT8yzwyn1F"
      },
      "source": [
        "#### 96. Given a two dimensional array, how to extract unique rows? (★★★) \n",
        "(**hint**: np.ascontiguousarray)"
      ]
    },
    {
      "cell_type": "code",
      "execution_count": null,
      "metadata": {
        "id": "BScRJIvVyn1F"
      },
      "outputs": [],
      "source": []
    },
    {
      "cell_type": "markdown",
      "metadata": {
        "id": "bBhvnBnPyn1F"
      },
      "source": [
        "#### 97. Considering 2 vectors A & B, write the einsum equivalent of inner, outer, sum, and mul function (★★★) \n",
        "(**hint**: np.einsum)"
      ]
    },
    {
      "cell_type": "code",
      "execution_count": null,
      "metadata": {
        "id": "gVOnXgzNyn1F"
      },
      "outputs": [],
      "source": []
    },
    {
      "cell_type": "markdown",
      "metadata": {
        "id": "y5J8gup9yn1F"
      },
      "source": [
        "#### 98. Considering a path described by two vectors (X,Y), how to sample it using equidistant samples (★★★)? \n",
        "(**hint**: np.cumsum, np.interp)"
      ]
    },
    {
      "cell_type": "code",
      "execution_count": null,
      "metadata": {
        "collapsed": true,
        "id": "Rv_twA8Gyn1F"
      },
      "outputs": [],
      "source": []
    },
    {
      "cell_type": "markdown",
      "metadata": {
        "id": "YJNgao3Gyn1F"
      },
      "source": [
        "#### 99. Given an integer n and a 2D array X, select from X the rows which can be interpreted as draws from a multinomial distribution with n degrees, i.e., the rows which only contain integers and which sum to n. (★★★) \n",
        "(**hint**: np.logical\\_and.reduce, np.mod)"
      ]
    },
    {
      "cell_type": "code",
      "execution_count": null,
      "metadata": {
        "id": "-clhGv8oyn1F"
      },
      "outputs": [],
      "source": []
    },
    {
      "cell_type": "markdown",
      "metadata": {
        "id": "pAWBX-ubyn1F"
      },
      "source": [
        "#### 100. Compute bootstrapped 95% confidence intervals for the mean of a 1D array X (i.e., resample the elements of an array with replacement N times, compute the mean of each sample, and then compute percentiles over the means). (★★★) \n",
        "(**hint**: np.percentile)"
      ]
    },
    {
      "cell_type": "code",
      "execution_count": null,
      "metadata": {
        "id": "eSy_EoRQyn1F"
      },
      "outputs": [],
      "source": []
    }
  ],
  "metadata": {
    "kernelspec": {
      "display_name": "Python 3",
      "language": "python",
      "name": "python3"
    },
    "language_info": {
      "codemirror_mode": {
        "name": "ipython",
        "version": 3
      },
      "file_extension": ".py",
      "mimetype": "text/x-python",
      "name": "python",
      "nbconvert_exporter": "python",
      "pygments_lexer": "ipython3",
      "version": "3.8.3"
    },
    "colab": {
      "provenance": [],
      "collapsed_sections": [
        "uEKTGNuHyn1B",
        "nP757SFsyn1D",
        "srGrhJw3yn1E",
        "tV8UC0xqyn1E",
        "qoM1Cleiyn1E",
        "rDUcRQsByn1E",
        "xSLMDPbvyn1E",
        "waszJHBpyn1F",
        "Fxx2mwlYyn1F",
        "HmksyLqayn1F",
        "ZtJT8yzwyn1F",
        "bBhvnBnPyn1F",
        "y5J8gup9yn1F",
        "YJNgao3Gyn1F",
        "pAWBX-ubyn1F"
      ],
      "include_colab_link": true
    }
  },
  "nbformat": 4,
  "nbformat_minor": 0
}