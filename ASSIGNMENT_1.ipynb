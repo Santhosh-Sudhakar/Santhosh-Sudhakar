{
  "cells": [
    {
      "cell_type": "markdown",
      "metadata": {
        "id": "view-in-github",
        "colab_type": "text"
      },
      "source": [
        "<a href=\"https://colab.research.google.com/github/Santhosh-Sudhakar/Santhosh-Sudhakar/blob/main/ASSIGNMENT_1.ipynb\" target=\"_parent\"><img src=\"https://colab.research.google.com/assets/colab-badge.svg\" alt=\"Open In Colab\"/></a>"
      ]
    },
    {
      "cell_type": "code",
      "execution_count": 4,
      "metadata": {
        "id": "MqKDbbrUSrYe",
        "colab": {
          "base_uri": "https://localhost:8080/"
        },
        "outputId": "17efb3de-aed0-4a32-c78c-ffd066bf55cd"
      },
      "outputs": [
        {
          "name": "stdout",
          "output_type": "stream",
          "text": [
            "REGISTER OR LOGIN :REGISTER\n",
            "Enter username/email :santhosh114051@gmail.com\n",
            "Enter password :British87@\n"
          ]
        }
      ],
      "source": [
        "from string import punctuation\n",
        "special_char=list(punctuation)\n",
        "num1=['1','2','3','4','5','6','7','8','9','0']\n",
        "db = open('/content/drive/MyDrive/ASSIGNMENTS/database.txt','r')\n",
        "def register():\n",
        "    a = input('Enter username/email :')\n",
        "    b = a.index('@')\n",
        "    if a[b+1]=='.':\n",
        "        print('INVALID username/EMAIL ENTRY REPEAT REGISTER')\n",
        "        register()\n",
        "    elif a[0] in special_char:\n",
        "        print('INVALID username/EMAIL ENTRY REPEAT REGISTER')\n",
        "        register()\n",
        "    elif a[0] in num1:\n",
        "        print('INVALID username/EMAIL ENTRY REPEAT REGISTER')\n",
        "        register()\n",
        "    else:\n",
        "        pass1 = input('Enter password :')\n",
        "        if len(pass1)>5 and len(pass1)<16:\n",
        "          special_count=0\n",
        "          upper_count=0\n",
        "          lower_count=0\n",
        "          digit_count=0\n",
        "    \n",
        "          for letter in pass1:\n",
        "            if letter.isupper():\n",
        "              upper_count=upper_count+1\n",
        "            elif letter.islower():\n",
        "              lower_count=lower_count+1\n",
        "            elif letter.isdigit():\n",
        "              digit_count=digit_count+1\n",
        "            else:\n",
        "              special_count=special_count+1\n",
        "          \n",
        "          if upper_count >= 1 and lower_count >= 1 and digit_count >= 1 and special_count >= 1:\n",
        "              db=open('/content/drive/MyDrive/ASSIGNMENTS/database2.txt', 'a')\n",
        "              db.write(a+' , '+pass1+'\\n')\n",
        "          else:\n",
        "              print('Password not successfull')\n",
        "              register()\n",
        "        else:\n",
        "          print('Password not successful')\n",
        "          register()\n",
        "\n",
        "def login():\n",
        "  db = open('/content/drive/MyDrive/ASSIGNMENTS/database2.txt','r')\n",
        "  email1=[]\n",
        "  pass2=[]\n",
        "  for i in db:\n",
        "    e,p= i.split(' , ')\n",
        "    p=p.strip()\n",
        "    email1.append(e)\n",
        "    pass2.append(p)\n",
        "    data = dict(zip(email1,pass2))\n",
        "  username=input('Enter Username/email :')\n",
        "  password=input('Enter password :')\n",
        "  if username in data:\n",
        "    if data[username] == password:\n",
        "      print('LOGIN SUCCESS')\n",
        "    else:\n",
        "      print('PASSWORD INCORRECT')\n",
        "  else:\n",
        "    print('Username doesnt exists')\n",
        "    register()\n",
        "    \n",
        "\n",
        "  \n",
        "            \n",
        "a=str(input('REGISTER OR LOGIN :'))\n",
        "if a=='REGISTER':\n",
        "  register()\n",
        "elif a=='LOGIN':\n",
        "  login()\n"
      ]
    },
    {
      "cell_type": "code",
      "execution_count": null,
      "metadata": {
        "id": "1hsLlb7yS2jd"
      },
      "outputs": [],
      "source": [
        ""
      ]
    },
    {
      "cell_type": "markdown",
      "source": [
        "# New Section"
      ],
      "metadata": {
        "id": "FDuYM7bDCf-W"
      }
    }
  ],
  "metadata": {
    "colab": {
      "collapsed_sections": [],
      "name": "ASSIGNMENT 1.ipynb",
      "provenance": [],
      "mount_file_id": "11-bhVnr4dighU3p0Qjk450nWnh1DPzLX",
      "authorship_tag": "ABX9TyPVXbKsg6vg/RHSf12KFYBw",
      "include_colab_link": true
    },
    "kernelspec": {
      "display_name": "Python 3",
      "name": "python3"
    },
    "language_info": {
      "name": "python"
    }
  },
  "nbformat": 4,
  "nbformat_minor": 0
}