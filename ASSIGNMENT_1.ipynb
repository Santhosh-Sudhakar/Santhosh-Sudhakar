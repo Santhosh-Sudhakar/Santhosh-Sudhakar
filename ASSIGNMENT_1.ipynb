{
  "nbformat": 4,
  "nbformat_minor": 0,
  "metadata": {
    "colab": {
      "name": "ASSIGNMENT 1.ipynb",
      "provenance": [],
      "collapsed_sections": [],
      "authorship_tag": "ABX9TyPRaTczcyvE9Bj5ngbJmWrB",
      "include_colab_link": true
    },
    "kernelspec": {
      "name": "python3",
      "display_name": "Python 3"
    },
    "language_info": {
      "name": "python"
    }
  },
  "cells": [
    {
      "cell_type": "markdown",
      "metadata": {
        "id": "view-in-github",
        "colab_type": "text"
      },
      "source": [
        "<a href=\"https://colab.research.google.com/github/Santhosh-Sudhakar/Santhosh-Sudhakar/blob/main/ASSIGNMENT_1.ipynb\" target=\"_parent\"><img src=\"https://colab.research.google.com/assets/colab-badge.svg\" alt=\"Open In Colab\"/></a>"
      ]
    },
    {
      "cell_type": "code",
      "execution_count": null,
      "metadata": {
        "id": "MqKDbbrUSrYe"
      },
      "outputs": [],
      "source": [
        "from string import punctuation\n",
        "special_char=list(punctuation)\n",
        "num1=['1','2','3','4','5','6','7','8','9','0']\n",
        "def register():\n",
        "    a = list(input('Enter username/email :'))\n",
        "    b = a.index('@')\n",
        "    if a[b+1]=='.':\n",
        "        print('INVALID username/EMAIL ENTRY REPEAT REGISTER')\n",
        "        register()\n",
        "    elif a[0] in special_char:\n",
        "        print('INVALID username/EMAIL ENTRY REPEAT REGISTER')\n",
        "        register()\n",
        "    elif a[0] in num1:\n",
        "        print('INVALID username/EMAIL ENTRY REPEAT REGISTER')\n",
        "        register() \n",
        "         \n",
        "    \n",
        "a=str(input('PLEASE SELECT AN OPTION (REGISTER OR LOGIN):'))\n",
        "\n",
        "if a=='REGISTER':\n",
        "    register()\n"
      ]
    },
    {
      "cell_type": "code",
      "source": [
        ""
      ],
      "metadata": {
        "id": "1hsLlb7yS2jd"
      },
      "execution_count": null,
      "outputs": []
    }
  ]
}